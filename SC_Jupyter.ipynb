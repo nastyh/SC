{
 "cells": [
  {
   "cell_type": "markdown",
   "metadata": {},
   "source": [
    "All provided files should be in the same folder."
   ]
  },
  {
   "cell_type": "markdown",
   "metadata": {},
   "source": [
    "### Table of content\n",
    "* Loading packages and the data\n",
    "* Data to a Datframe\n",
    "* Cleansing for further usage\n",
    "* Descriptive analysis\n",
    "* A bit of ML to further drive descriptive analysis\n",
    "* Additional insights\n",
    "* Summary and next steps"
   ]
  },
  {
   "cell_type": "markdown",
   "metadata": {},
   "source": [
    "### Load packages"
   ]
  },
  {
   "cell_type": "code",
   "execution_count": 204,
   "metadata": {},
   "outputs": [],
   "source": [
    "import pandas as pd\n",
    "import numpy as np\n",
    "import matplotlib\n",
    "import matplotlib.pyplot as plt\n",
    "import scipy.stats as st\n",
    "import seaborn as sns\n",
    "import pandas_profiling\n",
    "import datetime\n",
    "%matplotlib inline\n",
    "from io import StringIO\n",
    "import os\n",
    "import json\n",
    "import re"
   ]
  },
  {
   "cell_type": "markdown",
   "metadata": {},
   "source": [
    "### Load the file"
   ]
  },
  {
   "cell_type": "code",
   "execution_count": 205,
   "metadata": {},
   "outputs": [],
   "source": [
    "# we can deal with it just in the memory. Alternatively I pushed it through Databricks and uploaded the final table into a Postgresql database. \n",
    "os.chdir(r'C:\\Users\\us61565\\Desktop\\Internal\\Kaggle') # use the right address here\n",
    "\n",
    "# Reading the json as a dict\n",
    "with open('sc_data_science_challenge.json') as json_data:\n",
    "    data = json.load(json_data)"
   ]
  },
  {
   "cell_type": "code",
   "execution_count": null,
   "metadata": {},
   "outputs": [],
   "source": [
    "data"
   ]
  },
  {
   "cell_type": "markdown",
   "metadata": {},
   "source": [
    "### Make a dataframe"
   ]
  },
  {
   "cell_type": "code",
   "execution_count": 207,
   "metadata": {},
   "outputs": [],
   "source": [
    "# Had to make everything of an equal length first \n",
    "def pad_dict_list(dict_list, padel):\n",
    "    lmax = 0\n",
    "    for lname in dict_list.keys():\n",
    "        lmax = max(lmax, len(dict_list[lname]))\n",
    "    for lname in dict_list.keys():\n",
    "        ll = len(dict_list[lname])\n",
    "        if  ll < lmax:\n",
    "            dict_list[lname] += [padel] * (lmax - ll)\n",
    "    return dict_list"
   ]
  },
  {
   "cell_type": "code",
   "execution_count": 208,
   "metadata": {},
   "outputs": [],
   "source": [
    "data1 = pad_dict_list(data, 1) # using the function from above"
   ]
  },
  {
   "cell_type": "code",
   "execution_count": 209,
   "metadata": {},
   "outputs": [],
   "source": [
    "df = pd.DataFrame.from_dict(data1).T"
   ]
  },
  {
   "cell_type": "code",
   "execution_count": 210,
   "metadata": {},
   "outputs": [
    {
     "data": {
      "text/plain": [
       "0                                                ts\n",
       "1                                      country_code\n",
       "2                                    client_version\n",
       "3                                 listening_context\n",
       "4                        recommender_algorithm_name\n",
       "5                                          track_id\n",
       "6                              track_genre_category\n",
       "7                                 track_upload_date\n",
       "8                                    track_duration\n",
       "9                                   listen_duration\n",
       "10                                      listener_id\n",
       "11                             listener_signup_date\n",
       "12             listener_top_genre_category_listened\n",
       "13               listener_prev_month_listening_time\n",
       "14    listener_prev_month_avg_daily_tracks_listened\n",
       "Name: columns, dtype: object"
      ]
     },
     "execution_count": 210,
     "metadata": {},
     "output_type": "execute_result"
    }
   ],
   "source": [
    "cols = df.T.iloc[0:15,1]  # saving columns' names\n",
    "cols"
   ]
  },
  {
   "cell_type": "code",
   "execution_count": 211,
   "metadata": {},
   "outputs": [],
   "source": [
    "cols_2_split = df.T.iloc[0:,0] # data to split"
   ]
  },
  {
   "cell_type": "code",
   "execution_count": 212,
   "metadata": {},
   "outputs": [],
   "source": [
    "# make sure seconds are good. Remove from the final\n",
    "original = cols_2_split.astype(str).str.split(', ', expand = True) "
   ]
  },
  {
   "cell_type": "code",
   "execution_count": 213,
   "metadata": {},
   "outputs": [],
   "source": [
    "# remove\n",
    "original.columns = cols"
   ]
  },
  {
   "cell_type": "code",
   "execution_count": 214,
   "metadata": {},
   "outputs": [
    {
     "data": {
      "text/html": [
       "<div>\n",
       "<style scoped>\n",
       "    .dataframe tbody tr th:only-of-type {\n",
       "        vertical-align: middle;\n",
       "    }\n",
       "\n",
       "    .dataframe tbody tr th {\n",
       "        vertical-align: top;\n",
       "    }\n",
       "\n",
       "    .dataframe thead th {\n",
       "        text-align: right;\n",
       "    }\n",
       "</style>\n",
       "<table border=\"1\" class=\"dataframe\">\n",
       "  <thead>\n",
       "    <tr style=\"text-align: right;\">\n",
       "      <th>columns</th>\n",
       "      <th>ts</th>\n",
       "      <th>country_code</th>\n",
       "      <th>client_version</th>\n",
       "      <th>listening_context</th>\n",
       "      <th>recommender_algorithm_name</th>\n",
       "      <th>track_id</th>\n",
       "      <th>track_genre_category</th>\n",
       "      <th>track_upload_date</th>\n",
       "      <th>track_duration</th>\n",
       "      <th>listen_duration</th>\n",
       "      <th>listener_id</th>\n",
       "      <th>listener_signup_date</th>\n",
       "      <th>listener_top_genre_category_listened</th>\n",
       "      <th>listener_prev_month_listening_time</th>\n",
       "      <th>listener_prev_month_avg_daily_tracks_listened</th>\n",
       "    </tr>\n",
       "  </thead>\n",
       "  <tbody>\n",
       "    <tr>\n",
       "      <th>0</th>\n",
       "      <td>[1467398683</td>\n",
       "      <td>'GB'</td>\n",
       "      <td>'204.0.20'</td>\n",
       "      <td>'tracks'</td>\n",
       "      <td>'content-based'</td>\n",
       "      <td>'b47911d0e80d1a8a959a2b726654bbfa'</td>\n",
       "      <td>'Dance &amp; Electronic'</td>\n",
       "      <td>1466640000</td>\n",
       "      <td>413933</td>\n",
       "      <td>413933</td>\n",
       "      <td>'0001d5755511cae40e5b32d83a3decce'</td>\n",
       "      <td>1324771200</td>\n",
       "      <td>'HipHop &amp; R&amp;B'</td>\n",
       "      <td>617270940.0</td>\n",
       "      <td>22.5]</td>\n",
       "    </tr>\n",
       "    <tr>\n",
       "      <th>1</th>\n",
       "      <td>[1467398924</td>\n",
       "      <td>'GB'</td>\n",
       "      <td>'204.0.20'</td>\n",
       "      <td>'tracks'</td>\n",
       "      <td>'content-based'</td>\n",
       "      <td>'1f5e4bc82ba7fc802f780870f9b69191'</td>\n",
       "      <td>'HipHop &amp; R&amp;B'</td>\n",
       "      <td>1466726400</td>\n",
       "      <td>402640</td>\n",
       "      <td>110722</td>\n",
       "      <td>'0001d5755511cae40e5b32d83a3decce'</td>\n",
       "      <td>1324771200</td>\n",
       "      <td>'HipHop &amp; R&amp;B'</td>\n",
       "      <td>617270940.0</td>\n",
       "      <td>22.5]</td>\n",
       "    </tr>\n",
       "    <tr>\n",
       "      <th>2</th>\n",
       "      <td>[1467820636</td>\n",
       "      <td>'GB'</td>\n",
       "      <td>'204.0.20'</td>\n",
       "      <td>'users'</td>\n",
       "      <td>'content-based'</td>\n",
       "      <td>'092495283958e5d00f61cf2afe970d83'</td>\n",
       "      <td>'Pop'</td>\n",
       "      <td>1467072000</td>\n",
       "      <td>494811</td>\n",
       "      <td>193818</td>\n",
       "      <td>'0001d5755511cae40e5b32d83a3decce'</td>\n",
       "      <td>1324771200</td>\n",
       "      <td>'HipHop &amp; R&amp;B'</td>\n",
       "      <td>617270940.0</td>\n",
       "      <td>22.5]</td>\n",
       "    </tr>\n",
       "    <tr>\n",
       "      <th>3</th>\n",
       "      <td>[1467401951</td>\n",
       "      <td>'US'</td>\n",
       "      <td>'36.0.8'</td>\n",
       "      <td>'collection'</td>\n",
       "      <td>'content-based'</td>\n",
       "      <td>'211cd7be59941679f5ea847879b3b19b'</td>\n",
       "      <td>'HipHop &amp; R&amp;B'</td>\n",
       "      <td>1402272000</td>\n",
       "      <td>361585</td>\n",
       "      <td>361585</td>\n",
       "      <td>'000264c5b34ad04999535c8b6a8b86e2'</td>\n",
       "      <td>1379376000</td>\n",
       "      <td>'HipHop &amp; R&amp;B'</td>\n",
       "      <td>112239180.0</td>\n",
       "      <td>10.5]</td>\n",
       "    </tr>\n",
       "    <tr>\n",
       "      <th>4</th>\n",
       "      <td>[1467402159</td>\n",
       "      <td>'US'</td>\n",
       "      <td>'36.0.8'</td>\n",
       "      <td>'collection'</td>\n",
       "      <td>'content-based'</td>\n",
       "      <td>'0e7ca1a7524aba84473540fa0d0ec75f'</td>\n",
       "      <td>'Pop'</td>\n",
       "      <td>1448668800</td>\n",
       "      <td>373700</td>\n",
       "      <td>160162</td>\n",
       "      <td>'000264c5b34ad04999535c8b6a8b86e2'</td>\n",
       "      <td>1379376000</td>\n",
       "      <td>'HipHop &amp; R&amp;B'</td>\n",
       "      <td>112239180.0</td>\n",
       "      <td>10.5]</td>\n",
       "    </tr>\n",
       "  </tbody>\n",
       "</table>\n",
       "</div>"
      ],
      "text/plain": [
       "columns           ts country_code client_version listening_context  \\\n",
       "0        [1467398683         'GB'     '204.0.20'          'tracks'   \n",
       "1        [1467398924         'GB'     '204.0.20'          'tracks'   \n",
       "2        [1467820636         'GB'     '204.0.20'           'users'   \n",
       "3        [1467401951         'US'       '36.0.8'      'collection'   \n",
       "4        [1467402159         'US'       '36.0.8'      'collection'   \n",
       "\n",
       "columns recommender_algorithm_name                            track_id  \\\n",
       "0                  'content-based'  'b47911d0e80d1a8a959a2b726654bbfa'   \n",
       "1                  'content-based'  '1f5e4bc82ba7fc802f780870f9b69191'   \n",
       "2                  'content-based'  '092495283958e5d00f61cf2afe970d83'   \n",
       "3                  'content-based'  '211cd7be59941679f5ea847879b3b19b'   \n",
       "4                  'content-based'  '0e7ca1a7524aba84473540fa0d0ec75f'   \n",
       "\n",
       "columns  track_genre_category track_upload_date track_duration  \\\n",
       "0        'Dance & Electronic'        1466640000         413933   \n",
       "1              'HipHop & R&B'        1466726400         402640   \n",
       "2                       'Pop'        1467072000         494811   \n",
       "3              'HipHop & R&B'        1402272000         361585   \n",
       "4                       'Pop'        1448668800         373700   \n",
       "\n",
       "columns listen_duration                         listener_id  \\\n",
       "0                413933  '0001d5755511cae40e5b32d83a3decce'   \n",
       "1                110722  '0001d5755511cae40e5b32d83a3decce'   \n",
       "2                193818  '0001d5755511cae40e5b32d83a3decce'   \n",
       "3                361585  '000264c5b34ad04999535c8b6a8b86e2'   \n",
       "4                160162  '000264c5b34ad04999535c8b6a8b86e2'   \n",
       "\n",
       "columns listener_signup_date listener_top_genre_category_listened  \\\n",
       "0                 1324771200                       'HipHop & R&B'   \n",
       "1                 1324771200                       'HipHop & R&B'   \n",
       "2                 1324771200                       'HipHop & R&B'   \n",
       "3                 1379376000                       'HipHop & R&B'   \n",
       "4                 1379376000                       'HipHop & R&B'   \n",
       "\n",
       "columns listener_prev_month_listening_time  \\\n",
       "0                              617270940.0   \n",
       "1                              617270940.0   \n",
       "2                              617270940.0   \n",
       "3                              112239180.0   \n",
       "4                              112239180.0   \n",
       "\n",
       "columns listener_prev_month_avg_daily_tracks_listened  \n",
       "0                                               22.5]  \n",
       "1                                               22.5]  \n",
       "2                                               22.5]  \n",
       "3                                               10.5]  \n",
       "4                                               10.5]  "
      ]
     },
     "execution_count": 214,
     "metadata": {},
     "output_type": "execute_result"
    }
   ],
   "source": [
    "# remove\n",
    "original.head()"
   ]
  },
  {
   "cell_type": "code",
   "execution_count": 215,
   "metadata": {},
   "outputs": [],
   "source": [
    "# remove\n",
    "# t1 = cols_2_split.astype(str).map(lambda x: x[0]).str.rsplit(', ').str"
   ]
  },
  {
   "cell_type": "code",
   "execution_count": 216,
   "metadata": {},
   "outputs": [],
   "source": [
    "df_values = cols_2_split.astype(str).str.split(', ', expand = True) "
   ]
  },
  {
   "cell_type": "code",
   "execution_count": 217,
   "metadata": {},
   "outputs": [],
   "source": [
    "# Giving names to columns\n",
    "df_values.columns = cols"
   ]
  },
  {
   "cell_type": "code",
   "execution_count": 218,
   "metadata": {},
   "outputs": [
    {
     "data": {
      "text/html": [
       "<div>\n",
       "<style scoped>\n",
       "    .dataframe tbody tr th:only-of-type {\n",
       "        vertical-align: middle;\n",
       "    }\n",
       "\n",
       "    .dataframe tbody tr th {\n",
       "        vertical-align: top;\n",
       "    }\n",
       "\n",
       "    .dataframe thead th {\n",
       "        text-align: right;\n",
       "    }\n",
       "</style>\n",
       "<table border=\"1\" class=\"dataframe\">\n",
       "  <thead>\n",
       "    <tr style=\"text-align: right;\">\n",
       "      <th>columns</th>\n",
       "      <th>ts</th>\n",
       "      <th>country_code</th>\n",
       "      <th>client_version</th>\n",
       "      <th>listening_context</th>\n",
       "      <th>recommender_algorithm_name</th>\n",
       "      <th>track_id</th>\n",
       "      <th>track_genre_category</th>\n",
       "      <th>track_upload_date</th>\n",
       "      <th>track_duration</th>\n",
       "      <th>listen_duration</th>\n",
       "      <th>listener_id</th>\n",
       "      <th>listener_signup_date</th>\n",
       "      <th>listener_top_genre_category_listened</th>\n",
       "      <th>listener_prev_month_listening_time</th>\n",
       "      <th>listener_prev_month_avg_daily_tracks_listened</th>\n",
       "    </tr>\n",
       "  </thead>\n",
       "  <tbody>\n",
       "    <tr>\n",
       "      <th>0</th>\n",
       "      <td>[1467398683</td>\n",
       "      <td>'GB'</td>\n",
       "      <td>'204.0.20'</td>\n",
       "      <td>'tracks'</td>\n",
       "      <td>'content-based'</td>\n",
       "      <td>'b47911d0e80d1a8a959a2b726654bbfa'</td>\n",
       "      <td>'Dance &amp; Electronic'</td>\n",
       "      <td>1466640000</td>\n",
       "      <td>413933</td>\n",
       "      <td>413933</td>\n",
       "      <td>'0001d5755511cae40e5b32d83a3decce'</td>\n",
       "      <td>1324771200</td>\n",
       "      <td>'HipHop &amp; R&amp;B'</td>\n",
       "      <td>617270940.0</td>\n",
       "      <td>22.5]</td>\n",
       "    </tr>\n",
       "    <tr>\n",
       "      <th>1</th>\n",
       "      <td>[1467398924</td>\n",
       "      <td>'GB'</td>\n",
       "      <td>'204.0.20'</td>\n",
       "      <td>'tracks'</td>\n",
       "      <td>'content-based'</td>\n",
       "      <td>'1f5e4bc82ba7fc802f780870f9b69191'</td>\n",
       "      <td>'HipHop &amp; R&amp;B'</td>\n",
       "      <td>1466726400</td>\n",
       "      <td>402640</td>\n",
       "      <td>110722</td>\n",
       "      <td>'0001d5755511cae40e5b32d83a3decce'</td>\n",
       "      <td>1324771200</td>\n",
       "      <td>'HipHop &amp; R&amp;B'</td>\n",
       "      <td>617270940.0</td>\n",
       "      <td>22.5]</td>\n",
       "    </tr>\n",
       "    <tr>\n",
       "      <th>2</th>\n",
       "      <td>[1467820636</td>\n",
       "      <td>'GB'</td>\n",
       "      <td>'204.0.20'</td>\n",
       "      <td>'users'</td>\n",
       "      <td>'content-based'</td>\n",
       "      <td>'092495283958e5d00f61cf2afe970d83'</td>\n",
       "      <td>'Pop'</td>\n",
       "      <td>1467072000</td>\n",
       "      <td>494811</td>\n",
       "      <td>193818</td>\n",
       "      <td>'0001d5755511cae40e5b32d83a3decce'</td>\n",
       "      <td>1324771200</td>\n",
       "      <td>'HipHop &amp; R&amp;B'</td>\n",
       "      <td>617270940.0</td>\n",
       "      <td>22.5]</td>\n",
       "    </tr>\n",
       "    <tr>\n",
       "      <th>3</th>\n",
       "      <td>[1467401951</td>\n",
       "      <td>'US'</td>\n",
       "      <td>'36.0.8'</td>\n",
       "      <td>'collection'</td>\n",
       "      <td>'content-based'</td>\n",
       "      <td>'211cd7be59941679f5ea847879b3b19b'</td>\n",
       "      <td>'HipHop &amp; R&amp;B'</td>\n",
       "      <td>1402272000</td>\n",
       "      <td>361585</td>\n",
       "      <td>361585</td>\n",
       "      <td>'000264c5b34ad04999535c8b6a8b86e2'</td>\n",
       "      <td>1379376000</td>\n",
       "      <td>'HipHop &amp; R&amp;B'</td>\n",
       "      <td>112239180.0</td>\n",
       "      <td>10.5]</td>\n",
       "    </tr>\n",
       "    <tr>\n",
       "      <th>4</th>\n",
       "      <td>[1467402159</td>\n",
       "      <td>'US'</td>\n",
       "      <td>'36.0.8'</td>\n",
       "      <td>'collection'</td>\n",
       "      <td>'content-based'</td>\n",
       "      <td>'0e7ca1a7524aba84473540fa0d0ec75f'</td>\n",
       "      <td>'Pop'</td>\n",
       "      <td>1448668800</td>\n",
       "      <td>373700</td>\n",
       "      <td>160162</td>\n",
       "      <td>'000264c5b34ad04999535c8b6a8b86e2'</td>\n",
       "      <td>1379376000</td>\n",
       "      <td>'HipHop &amp; R&amp;B'</td>\n",
       "      <td>112239180.0</td>\n",
       "      <td>10.5]</td>\n",
       "    </tr>\n",
       "  </tbody>\n",
       "</table>\n",
       "</div>"
      ],
      "text/plain": [
       "columns           ts country_code client_version listening_context  \\\n",
       "0        [1467398683         'GB'     '204.0.20'          'tracks'   \n",
       "1        [1467398924         'GB'     '204.0.20'          'tracks'   \n",
       "2        [1467820636         'GB'     '204.0.20'           'users'   \n",
       "3        [1467401951         'US'       '36.0.8'      'collection'   \n",
       "4        [1467402159         'US'       '36.0.8'      'collection'   \n",
       "\n",
       "columns recommender_algorithm_name                            track_id  \\\n",
       "0                  'content-based'  'b47911d0e80d1a8a959a2b726654bbfa'   \n",
       "1                  'content-based'  '1f5e4bc82ba7fc802f780870f9b69191'   \n",
       "2                  'content-based'  '092495283958e5d00f61cf2afe970d83'   \n",
       "3                  'content-based'  '211cd7be59941679f5ea847879b3b19b'   \n",
       "4                  'content-based'  '0e7ca1a7524aba84473540fa0d0ec75f'   \n",
       "\n",
       "columns  track_genre_category track_upload_date track_duration  \\\n",
       "0        'Dance & Electronic'        1466640000         413933   \n",
       "1              'HipHop & R&B'        1466726400         402640   \n",
       "2                       'Pop'        1467072000         494811   \n",
       "3              'HipHop & R&B'        1402272000         361585   \n",
       "4                       'Pop'        1448668800         373700   \n",
       "\n",
       "columns listen_duration                         listener_id  \\\n",
       "0                413933  '0001d5755511cae40e5b32d83a3decce'   \n",
       "1                110722  '0001d5755511cae40e5b32d83a3decce'   \n",
       "2                193818  '0001d5755511cae40e5b32d83a3decce'   \n",
       "3                361585  '000264c5b34ad04999535c8b6a8b86e2'   \n",
       "4                160162  '000264c5b34ad04999535c8b6a8b86e2'   \n",
       "\n",
       "columns listener_signup_date listener_top_genre_category_listened  \\\n",
       "0                 1324771200                       'HipHop & R&B'   \n",
       "1                 1324771200                       'HipHop & R&B'   \n",
       "2                 1324771200                       'HipHop & R&B'   \n",
       "3                 1379376000                       'HipHop & R&B'   \n",
       "4                 1379376000                       'HipHop & R&B'   \n",
       "\n",
       "columns listener_prev_month_listening_time  \\\n",
       "0                              617270940.0   \n",
       "1                              617270940.0   \n",
       "2                              617270940.0   \n",
       "3                              112239180.0   \n",
       "4                              112239180.0   \n",
       "\n",
       "columns listener_prev_month_avg_daily_tracks_listened  \n",
       "0                                               22.5]  \n",
       "1                                               22.5]  \n",
       "2                                               22.5]  \n",
       "3                                               10.5]  \n",
       "4                                               10.5]  "
      ]
     },
     "execution_count": 218,
     "metadata": {},
     "output_type": "execute_result"
    }
   ],
   "source": [
    "df_values.head()"
   ]
  },
  {
   "cell_type": "code",
   "execution_count": 219,
   "metadata": {},
   "outputs": [],
   "source": [
    "# test = df_values"
   ]
  },
  {
   "cell_type": "code",
   "execution_count": 220,
   "metadata": {},
   "outputs": [],
   "source": [
    "# test.head()"
   ]
  },
  {
   "cell_type": "code",
   "execution_count": 221,
   "metadata": {},
   "outputs": [
    {
     "data": {
      "text/html": [
       "<div>\n",
       "<style scoped>\n",
       "    .dataframe tbody tr th:only-of-type {\n",
       "        vertical-align: middle;\n",
       "    }\n",
       "\n",
       "    .dataframe tbody tr th {\n",
       "        vertical-align: top;\n",
       "    }\n",
       "\n",
       "    .dataframe thead th {\n",
       "        text-align: right;\n",
       "    }\n",
       "</style>\n",
       "<table border=\"1\" class=\"dataframe\">\n",
       "  <thead>\n",
       "    <tr style=\"text-align: right;\">\n",
       "      <th>columns</th>\n",
       "      <th>ts</th>\n",
       "      <th>country_code</th>\n",
       "      <th>client_version</th>\n",
       "      <th>listening_context</th>\n",
       "      <th>recommender_algorithm_name</th>\n",
       "      <th>track_id</th>\n",
       "      <th>track_genre_category</th>\n",
       "      <th>track_upload_date</th>\n",
       "      <th>track_duration</th>\n",
       "      <th>listen_duration</th>\n",
       "      <th>listener_id</th>\n",
       "      <th>listener_signup_date</th>\n",
       "      <th>listener_top_genre_category_listened</th>\n",
       "      <th>listener_prev_month_listening_time</th>\n",
       "      <th>listener_prev_month_avg_daily_tracks_listened</th>\n",
       "    </tr>\n",
       "  </thead>\n",
       "  <tbody>\n",
       "    <tr>\n",
       "      <th>0</th>\n",
       "      <td>[1467398683</td>\n",
       "      <td>'GB'</td>\n",
       "      <td>'204.0.20'</td>\n",
       "      <td>'tracks'</td>\n",
       "      <td>'content-based'</td>\n",
       "      <td>'b47911d0e80d1a8a959a2b726654bbfa'</td>\n",
       "      <td>'Dance &amp; Electronic'</td>\n",
       "      <td>1466640000</td>\n",
       "      <td>413933</td>\n",
       "      <td>413933</td>\n",
       "      <td>'0001d5755511cae40e5b32d83a3decce'</td>\n",
       "      <td>1324771200</td>\n",
       "      <td>'HipHop &amp; R&amp;B'</td>\n",
       "      <td>617270940.0</td>\n",
       "      <td>22.5]</td>\n",
       "    </tr>\n",
       "    <tr>\n",
       "      <th>1</th>\n",
       "      <td>[1467398924</td>\n",
       "      <td>'GB'</td>\n",
       "      <td>'204.0.20'</td>\n",
       "      <td>'tracks'</td>\n",
       "      <td>'content-based'</td>\n",
       "      <td>'1f5e4bc82ba7fc802f780870f9b69191'</td>\n",
       "      <td>'HipHop &amp; R&amp;B'</td>\n",
       "      <td>1466726400</td>\n",
       "      <td>402640</td>\n",
       "      <td>110722</td>\n",
       "      <td>'0001d5755511cae40e5b32d83a3decce'</td>\n",
       "      <td>1324771200</td>\n",
       "      <td>'HipHop &amp; R&amp;B'</td>\n",
       "      <td>617270940.0</td>\n",
       "      <td>22.5]</td>\n",
       "    </tr>\n",
       "    <tr>\n",
       "      <th>2</th>\n",
       "      <td>[1467820636</td>\n",
       "      <td>'GB'</td>\n",
       "      <td>'204.0.20'</td>\n",
       "      <td>'users'</td>\n",
       "      <td>'content-based'</td>\n",
       "      <td>'092495283958e5d00f61cf2afe970d83'</td>\n",
       "      <td>'Pop'</td>\n",
       "      <td>1467072000</td>\n",
       "      <td>494811</td>\n",
       "      <td>193818</td>\n",
       "      <td>'0001d5755511cae40e5b32d83a3decce'</td>\n",
       "      <td>1324771200</td>\n",
       "      <td>'HipHop &amp; R&amp;B'</td>\n",
       "      <td>617270940.0</td>\n",
       "      <td>22.5]</td>\n",
       "    </tr>\n",
       "    <tr>\n",
       "      <th>3</th>\n",
       "      <td>[1467401951</td>\n",
       "      <td>'US'</td>\n",
       "      <td>'36.0.8'</td>\n",
       "      <td>'collection'</td>\n",
       "      <td>'content-based'</td>\n",
       "      <td>'211cd7be59941679f5ea847879b3b19b'</td>\n",
       "      <td>'HipHop &amp; R&amp;B'</td>\n",
       "      <td>1402272000</td>\n",
       "      <td>361585</td>\n",
       "      <td>361585</td>\n",
       "      <td>'000264c5b34ad04999535c8b6a8b86e2'</td>\n",
       "      <td>1379376000</td>\n",
       "      <td>'HipHop &amp; R&amp;B'</td>\n",
       "      <td>112239180.0</td>\n",
       "      <td>10.5]</td>\n",
       "    </tr>\n",
       "    <tr>\n",
       "      <th>4</th>\n",
       "      <td>[1467402159</td>\n",
       "      <td>'US'</td>\n",
       "      <td>'36.0.8'</td>\n",
       "      <td>'collection'</td>\n",
       "      <td>'content-based'</td>\n",
       "      <td>'0e7ca1a7524aba84473540fa0d0ec75f'</td>\n",
       "      <td>'Pop'</td>\n",
       "      <td>1448668800</td>\n",
       "      <td>373700</td>\n",
       "      <td>160162</td>\n",
       "      <td>'000264c5b34ad04999535c8b6a8b86e2'</td>\n",
       "      <td>1379376000</td>\n",
       "      <td>'HipHop &amp; R&amp;B'</td>\n",
       "      <td>112239180.0</td>\n",
       "      <td>10.5]</td>\n",
       "    </tr>\n",
       "  </tbody>\n",
       "</table>\n",
       "</div>"
      ],
      "text/plain": [
       "columns           ts country_code client_version listening_context  \\\n",
       "0        [1467398683         'GB'     '204.0.20'          'tracks'   \n",
       "1        [1467398924         'GB'     '204.0.20'          'tracks'   \n",
       "2        [1467820636         'GB'     '204.0.20'           'users'   \n",
       "3        [1467401951         'US'       '36.0.8'      'collection'   \n",
       "4        [1467402159         'US'       '36.0.8'      'collection'   \n",
       "\n",
       "columns recommender_algorithm_name                            track_id  \\\n",
       "0                  'content-based'  'b47911d0e80d1a8a959a2b726654bbfa'   \n",
       "1                  'content-based'  '1f5e4bc82ba7fc802f780870f9b69191'   \n",
       "2                  'content-based'  '092495283958e5d00f61cf2afe970d83'   \n",
       "3                  'content-based'  '211cd7be59941679f5ea847879b3b19b'   \n",
       "4                  'content-based'  '0e7ca1a7524aba84473540fa0d0ec75f'   \n",
       "\n",
       "columns  track_genre_category track_upload_date track_duration  \\\n",
       "0        'Dance & Electronic'        1466640000         413933   \n",
       "1              'HipHop & R&B'        1466726400         402640   \n",
       "2                       'Pop'        1467072000         494811   \n",
       "3              'HipHop & R&B'        1402272000         361585   \n",
       "4                       'Pop'        1448668800         373700   \n",
       "\n",
       "columns listen_duration                         listener_id  \\\n",
       "0                413933  '0001d5755511cae40e5b32d83a3decce'   \n",
       "1                110722  '0001d5755511cae40e5b32d83a3decce'   \n",
       "2                193818  '0001d5755511cae40e5b32d83a3decce'   \n",
       "3                361585  '000264c5b34ad04999535c8b6a8b86e2'   \n",
       "4                160162  '000264c5b34ad04999535c8b6a8b86e2'   \n",
       "\n",
       "columns listener_signup_date listener_top_genre_category_listened  \\\n",
       "0                 1324771200                       'HipHop & R&B'   \n",
       "1                 1324771200                       'HipHop & R&B'   \n",
       "2                 1324771200                       'HipHop & R&B'   \n",
       "3                 1379376000                       'HipHop & R&B'   \n",
       "4                 1379376000                       'HipHop & R&B'   \n",
       "\n",
       "columns listener_prev_month_listening_time  \\\n",
       "0                              617270940.0   \n",
       "1                              617270940.0   \n",
       "2                              617270940.0   \n",
       "3                              112239180.0   \n",
       "4                              112239180.0   \n",
       "\n",
       "columns listener_prev_month_avg_daily_tracks_listened  \n",
       "0                                               22.5]  \n",
       "1                                               22.5]  \n",
       "2                                               22.5]  \n",
       "3                                               10.5]  \n",
       "4                                               10.5]  "
      ]
     },
     "execution_count": 221,
     "metadata": {},
     "output_type": "execute_result"
    }
   ],
   "source": [
    "df_values.head()"
   ]
  },
  {
   "cell_type": "markdown",
   "metadata": {},
   "source": [
    "### Cleaning the dataset"
   ]
  },
  {
   "cell_type": "code",
   "execution_count": 222,
   "metadata": {},
   "outputs": [],
   "source": [
    "# Square brackets\n",
    "df_values['ts'] = df_values['ts'].str[1:] # removing the first bracket\n",
    "df_values.iloc[:,-1] = df_values.iloc[:,-1].map(lambda x: str(x)[:-1])  # don't want to type the name of the last column. Removing the bracket"
   ]
  },
  {
   "cell_type": "code",
   "execution_count": 223,
   "metadata": {},
   "outputs": [],
   "source": [
    "# removing quotes\n",
    "for a in df_values.iloc[:,1:7].columns.tolist():\n",
    "    df_values[a] = df_values[a].astype(str).str.replace('\\'', '')\n",
    "\n",
    "for b in df_values[['listener_id','listener_top_genre_category_listened']].columns.tolist():\n",
    "    df_values[b] = df_values[b].astype(str).str.replace('\\'', '')    "
   ]
  },
  {
   "cell_type": "code",
   "execution_count": 224,
   "metadata": {},
   "outputs": [],
   "source": [
    "# unix timestamp to date\n",
    "df_values['ts'] = pd.to_datetime(df_values['ts'], unit='s')\n",
    "df_values['track_upload_date'] = pd.to_datetime(df_values['track_upload_date'], unit='s')\n",
    "df_values['listener_signup_date'] = pd.to_datetime(df_values['listener_signup_date'], unit='s')"
   ]
  },
  {
   "cell_type": "code",
   "execution_count": 225,
   "metadata": {},
   "outputs": [],
   "source": [
    "# Milliseconds to seconds for now\n",
    "df_values['track_duration'] = df_values['track_duration'].astype(float)/1000\n",
    "df_values['listen_duration'] = df_values['listen_duration'].astype(float)/1000"
   ]
  },
  {
   "cell_type": "code",
   "execution_count": 244,
   "metadata": {},
   "outputs": [],
   "source": [
    "\"\"\"The above approach won't work with listener_prev_month_listening_time because it has a non-numeric value for customers who are \n",
    "first month users. Here is a work-around\"\"\"\n",
    "\n",
    "df_values['listener_prev_month_listening_time'] = pd.to_numeric(df_values['listener_prev_month_listening_time'], errors='ignore')\n",
    "df_values['listener_prev_month_listening_time'].replace(to_replace=['None'], value=np.nan, inplace=True)\n",
    "df_values['listener_prev_month_listening_time'].fillna(0, inplace = True)\n",
    "df_values['listener_prev_month_listening_time'] = df_values['listener_prev_month_listening_time'].astype(float)/1000"
   ]
  },
  {
   "cell_type": "code",
   "execution_count": 247,
   "metadata": {},
   "outputs": [
    {
     "data": {
      "text/html": [
       "<div>\n",
       "<style scoped>\n",
       "    .dataframe tbody tr th:only-of-type {\n",
       "        vertical-align: middle;\n",
       "    }\n",
       "\n",
       "    .dataframe tbody tr th {\n",
       "        vertical-align: top;\n",
       "    }\n",
       "\n",
       "    .dataframe thead th {\n",
       "        text-align: right;\n",
       "    }\n",
       "</style>\n",
       "<table border=\"1\" class=\"dataframe\">\n",
       "  <thead>\n",
       "    <tr style=\"text-align: right;\">\n",
       "      <th>columns</th>\n",
       "      <th>ts</th>\n",
       "      <th>country_code</th>\n",
       "      <th>client_version</th>\n",
       "      <th>listening_context</th>\n",
       "      <th>recommender_algorithm_name</th>\n",
       "      <th>track_id</th>\n",
       "      <th>track_genre_category</th>\n",
       "      <th>track_upload_date</th>\n",
       "      <th>track_duration</th>\n",
       "      <th>listen_duration</th>\n",
       "      <th>listener_id</th>\n",
       "      <th>listener_signup_date</th>\n",
       "      <th>listener_top_genre_category_listened</th>\n",
       "      <th>listener_prev_month_listening_time</th>\n",
       "      <th>listener_prev_month_avg_daily_tracks_listened</th>\n",
       "    </tr>\n",
       "  </thead>\n",
       "  <tbody>\n",
       "  </tbody>\n",
       "</table>\n",
       "</div>"
      ],
      "text/plain": [
       "Empty DataFrame\n",
       "Columns: [ts, country_code, client_version, listening_context, recommender_algorithm_name, track_id, track_genre_category, track_upload_date, track_duration, listen_duration, listener_id, listener_signup_date, listener_top_genre_category_listened, listener_prev_month_listening_time, listener_prev_month_avg_daily_tracks_listened]\n",
       "Index: []"
      ]
     },
     "execution_count": 247,
     "metadata": {},
     "output_type": "execute_result"
    }
   ],
   "source": [
    "# let's check the NaN situation\n",
    "df_values[df_values.isnull().any(axis=1)]"
   ]
  },
  {
   "cell_type": "code",
   "execution_count": 248,
   "metadata": {},
   "outputs": [
    {
     "data": {
      "text/plain": [
       "columns\n",
       "ts                                               datetime64[ns]\n",
       "country_code                                             object\n",
       "client_version                                           object\n",
       "listening_context                                        object\n",
       "recommender_algorithm_name                               object\n",
       "track_id                                                 object\n",
       "track_genre_category                                     object\n",
       "track_upload_date                                datetime64[ns]\n",
       "track_duration                                          float64\n",
       "listen_duration                                         float64\n",
       "listener_id                                              object\n",
       "listener_signup_date                             datetime64[ns]\n",
       "listener_top_genre_category_listened                     object\n",
       "listener_prev_month_listening_time                      float64\n",
       "listener_prev_month_avg_daily_tracks_listened            object\n",
       "dtype: object"
      ]
     },
     "execution_count": 248,
     "metadata": {},
     "output_type": "execute_result"
    }
   ],
   "source": [
    "df_values.dtypes"
   ]
  },
  {
   "cell_type": "code",
   "execution_count": null,
   "metadata": {},
   "outputs": [],
   "source": [
    "# writing a .csv\n",
    "# df_values.to_csv(r'C:\\Users\\us61565\\Desktop\\Internal\\Kaggle\\df_values.csv', index=False)"
   ]
  },
  {
   "cell_type": "markdown",
   "metadata": {},
   "source": [
    "## Descriptive Analysis"
   ]
  },
  {
   "cell_type": "markdown",
   "metadata": {},
   "source": [
    "Seems it's much easier to take a first look using Tableau b/c of numerous small things that can be handled by using Fixed in Tableau but require way more work in Python. "
   ]
  },
  {
   "cell_type": "markdown",
   "metadata": {},
   "source": [
    "First, we need to define what a skipped track is. We need to fix Track Id b/c the same track can be listened by different users and more than once. If we just take the difference all ratios will go > 100%\n"
   ]
  },
  {
   "cell_type": "markdown",
   "metadata": {},
   "source": [
    "<img src=\"skip_track_def.jpg\">"
   ]
  },
  {
   "cell_type": "markdown",
   "metadata": {},
   "source": [
    "Second, it's not really clear why a skipped track is necessarily a bad thing. It sounds logical but is it because skipped tracks lead to a revenue loss, maybe?\n",
    "I've analyzed whether the number of skipped tracks outpaces the general platform growth (total minutes listened) breaking it down by context, user age, and genre."
   ]
  },
  {
   "cell_type": "markdown",
   "metadata": {},
   "source": [
    "<img src=\"skip more context.jpg\">"
   ]
  },
  {
   "cell_type": "markdown",
   "metadata": {},
   "source": [
    "<img src = \"skip more by age.jpg\">"
   ]
  },
  {
   "cell_type": "markdown",
   "metadata": {},
   "source": [
    "<img src = \"skip more genre.jpg\">"
   ]
  },
  {
   "cell_type": "markdown",
   "metadata": {},
   "source": [
    "It should give an approximate direction for further research. While trends overall are fairly consistent with each, the \"search\" and \"personal recommendations\" context\n",
    "have seen better days."
   ]
  },
  {
   "cell_type": "markdown",
   "metadata": {},
   "source": [
    "Let's see whether 'old' and 'new' users are different:"
   ]
  },
  {
   "cell_type": "markdown",
   "metadata": {},
   "source": [
    "<img src = \"skipped_by_year.jpg\">"
   ]
  },
  {
   "cell_type": "markdown",
   "metadata": {},
   "source": [
    "It's been fairly steady. But are they all active?\n",
    "To understand that, we can plot this:\n",
    "\n",
    "Maybe the user count and how much they listened deteriorated and led to a wash?"
   ]
  },
  {
   "cell_type": "markdown",
   "metadata": {},
   "source": [
    "<img src = \"tracks for age groups.jpg\">"
   ]
  },
  {
   "cell_type": "markdown",
   "metadata": {},
   "source": [
    "Younger users seems to be more impatient that older ones (compare the right y axis on the chart above and below)"
   ]
  },
  {
   "cell_type": "markdown",
   "metadata": {},
   "source": [
    "<img src= \"tracks for upload dates.jpg\">"
   ]
  },
  {
   "cell_type": "markdown",
   "metadata": {},
   "source": [
    "Genres and context also show a lot of variability:"
   ]
  },
  {
   "cell_type": "markdown",
   "metadata": {},
   "source": [
    "<img src=\"tracks by genre.jpg\">"
   ]
  },
  {
   "cell_type": "markdown",
   "metadata": {},
   "source": [
    "<img src= \"tracks by context.jpg\">"
   ]
  },
  {
   "cell_type": "markdown",
   "metadata": {},
   "source": [
    "It's all interesing but doesn't necessarily says a lot about skipped tracks and leaves a lot of room for hypothesizing. "
   ]
  },
  {
   "cell_type": "markdown",
   "metadata": {},
   "source": [
    "Let's try find what features are more important. For this, we can use either a random forest or XgBoost.\n",
    "\n",
    "We want a dataset with columns: \n",
    "colnames = ['Country Code','Listener Id','listener_prev_month_avg_daily_tracks_listened','listening_context',\n",
    "         'recommender_algorithm_name','Skipped','track_genre_category','track_id','Last time minus track date','User Age']"
   ]
  },
  {
   "cell_type": "markdown",
   "metadata": {},
   "source": [
    "It requires a lot of groupby and merge: it's done below. \n",
    "But it was much faster to create the required dataset in Tableau, export to .mdb, export to .txt and clean up this .txt right here"
   ]
  },
  {
   "cell_type": "code",
   "execution_count": 310,
   "metadata": {},
   "outputs": [],
   "source": [
    "colnames = ['Country Code','Listener Id','listener_prev_month_avg_daily_tracks_listened','listening_context',\n",
    "         'recommender_algorithm_name','Skipped','track_genre_category','track_id','Last time minus track date','User Age']\n",
    "df_ml = pd.read_csv(r'C:\\Users\\us61565\\Desktop\\Internal\\Kaggle\\df_fr_access.txt', sep=\",\", names = colnames, header = None)\n"
   ]
  },
  {
   "cell_type": "markdown",
   "metadata": {},
   "source": [
    "A few words about last time minus track date. It's calculated as such:"
   ]
  },
  {
   "cell_type": "markdown",
   "metadata": {},
   "source": [
    "<img src = \"last time minus track date.JPG\">"
   ]
  },
  {
   "cell_type": "markdown",
   "metadata": {},
   "source": [
    "Where one variable is given and another one is:"
   ]
  },
  {
   "cell_type": "markdown",
   "metadata": {},
   "source": [
    "<img src = \"last time user listened.jpg\">"
   ]
  },
  {
   "cell_type": "markdown",
   "metadata": {},
   "source": [
    "Apparently it's all zeroes, and it sems that every user's last song was recommended. A hypothesis was that users might come back without recs b/c they love the service, etc. It still seems logical, but I cannot prove in this dataset. So I removed the column."
   ]
  },
  {
   "cell_type": "code",
   "execution_count": 312,
   "metadata": {},
   "outputs": [],
   "source": [
    "df_ml.drop(columns=['Last time minus track date'], inplace = True)"
   ]
  },
  {
   "cell_type": "markdown",
   "metadata": {},
   "source": [
    "We can also drop Listener Id and track_id"
   ]
  },
  {
   "cell_type": "code",
   "execution_count": 314,
   "metadata": {},
   "outputs": [],
   "source": [
    "df_ml.drop(columns=['Listener Id','track_id'], inplace = True)"
   ]
  },
  {
   "cell_type": "code",
   "execution_count": 315,
   "metadata": {},
   "outputs": [
    {
     "data": {
      "text/html": [
       "<div>\n",
       "<style scoped>\n",
       "    .dataframe tbody tr th:only-of-type {\n",
       "        vertical-align: middle;\n",
       "    }\n",
       "\n",
       "    .dataframe tbody tr th {\n",
       "        vertical-align: top;\n",
       "    }\n",
       "\n",
       "    .dataframe thead th {\n",
       "        text-align: right;\n",
       "    }\n",
       "</style>\n",
       "<table border=\"1\" class=\"dataframe\">\n",
       "  <thead>\n",
       "    <tr style=\"text-align: right;\">\n",
       "      <th></th>\n",
       "      <th>Country Code</th>\n",
       "      <th>listener_prev_month_avg_daily_tracks_listened</th>\n",
       "      <th>listening_context</th>\n",
       "      <th>recommender_algorithm_name</th>\n",
       "      <th>Skipped</th>\n",
       "      <th>track_genre_category</th>\n",
       "      <th>User Age</th>\n",
       "    </tr>\n",
       "  </thead>\n",
       "  <tbody>\n",
       "    <tr>\n",
       "      <th>0</th>\n",
       "      <td>GB</td>\n",
       "      <td>48.0</td>\n",
       "      <td>tracks</td>\n",
       "      <td>content-based</td>\n",
       "      <td>Y</td>\n",
       "      <td>Dance &amp; Electronic</td>\n",
       "      <td>1952</td>\n",
       "    </tr>\n",
       "    <tr>\n",
       "      <th>1</th>\n",
       "      <td>US</td>\n",
       "      <td>18.0</td>\n",
       "      <td>tracks</td>\n",
       "      <td>collaborative</td>\n",
       "      <td>Y</td>\n",
       "      <td>Dance &amp; Electronic</td>\n",
       "      <td>2404</td>\n",
       "    </tr>\n",
       "    <tr>\n",
       "      <th>2</th>\n",
       "      <td>US</td>\n",
       "      <td>22.5</td>\n",
       "      <td>collection</td>\n",
       "      <td>content-based</td>\n",
       "      <td>Y</td>\n",
       "      <td>HipHop &amp; R&amp;B</td>\n",
       "      <td>490</td>\n",
       "    </tr>\n",
       "    <tr>\n",
       "      <th>3</th>\n",
       "      <td>US</td>\n",
       "      <td>40.5</td>\n",
       "      <td>tracks</td>\n",
       "      <td>content-based</td>\n",
       "      <td>Y</td>\n",
       "      <td>Dance &amp; Electronic</td>\n",
       "      <td>908</td>\n",
       "    </tr>\n",
       "    <tr>\n",
       "      <th>4</th>\n",
       "      <td>GB</td>\n",
       "      <td>81.0</td>\n",
       "      <td>tracks</td>\n",
       "      <td>content-based</td>\n",
       "      <td>Y</td>\n",
       "      <td>Dance &amp; Electronic</td>\n",
       "      <td>315</td>\n",
       "    </tr>\n",
       "  </tbody>\n",
       "</table>\n",
       "</div>"
      ],
      "text/plain": [
       "  Country Code  listener_prev_month_avg_daily_tracks_listened  \\\n",
       "0           GB                                           48.0   \n",
       "1           US                                           18.0   \n",
       "2           US                                           22.5   \n",
       "3           US                                           40.5   \n",
       "4           GB                                           81.0   \n",
       "\n",
       "  listening_context recommender_algorithm_name Skipped track_genre_category  \\\n",
       "0            tracks              content-based       Y   Dance & Electronic   \n",
       "1            tracks              collaborative       Y   Dance & Electronic   \n",
       "2        collection              content-based       Y         HipHop & R&B   \n",
       "3            tracks              content-based       Y   Dance & Electronic   \n",
       "4            tracks              content-based       Y   Dance & Electronic   \n",
       "\n",
       "   User Age  \n",
       "0      1952  \n",
       "1      2404  \n",
       "2       490  \n",
       "3       908  \n",
       "4       315  "
      ]
     },
     "execution_count": 315,
     "metadata": {},
     "output_type": "execute_result"
    }
   ],
   "source": [
    "df_ml.head()"
   ]
  },
  {
   "cell_type": "markdown",
   "metadata": {},
   "source": [
    "**Scroll below to \"A bit of ML\"**"
   ]
  },
  {
   "cell_type": "markdown",
   "metadata": {},
   "source": [
    "#### If you want to create new fields manually here:"
   ]
  },
  {
   "cell_type": "code",
   "execution_count": null,
   "metadata": {},
   "outputs": [],
   "source": [
    "df_values.head()"
   ]
  },
  {
   "cell_type": "code",
   "execution_count": null,
   "metadata": {},
   "outputs": [],
   "source": [
    "by_listener = df_values.groupby(['listener_id'])\n",
    "by_listener.first()"
   ]
  },
  {
   "cell_type": "code",
   "execution_count": 257,
   "metadata": {},
   "outputs": [],
   "source": [
    "# Users' time on the platform\n",
    "age = df_values.groupby('listener_id')['ts'].max() - df_values.groupby('listener_id')['listener_signup_date'].min()"
   ]
  },
  {
   "cell_type": "code",
   "execution_count": 260,
   "metadata": {},
   "outputs": [],
   "source": [
    "# adding this column\n",
    "result_w_age = df_values.merge(age.to_frame(), on='listener_id')"
   ]
  },
  {
   "cell_type": "code",
   "execution_count": null,
   "metadata": {},
   "outputs": [],
   "source": [
    "result_w_age.head()"
   ]
  },
  {
   "cell_type": "code",
   "execution_count": 265,
   "metadata": {},
   "outputs": [],
   "source": [
    "#renaming the added column\n",
    "result_w_age.rename(columns={ result_w_age.columns[-1]: \"listener_age\"}, inplace = True)"
   ]
  },
  {
   "cell_type": "code",
   "execution_count": 272,
   "metadata": {},
   "outputs": [],
   "source": [
    "# df_l_tr = result_w_age.groupby(['listener_id','track_id'])"
   ]
  },
  {
   "cell_type": "code",
   "execution_count": null,
   "metadata": {},
   "outputs": [],
   "source": [
    "# df_l_tr['Skipped'] = np.where(df_l_tr['listen_duration'] - df_l_tr['track_duration'] < 0, 'Yes', 'No')\n",
    "\n",
    "#  df.groupby('A').apply(lambda x: (x['C'] - x['D']))\n",
    "# age = result_w_age.groupby(['listener_id','track_id']).apply(lambda x: (x['listen_duration']-x['track_duration']))   "
   ]
  },
  {
   "cell_type": "code",
   "execution_count": 283,
   "metadata": {},
   "outputs": [],
   "source": [
    "# difference between tracks' lengths and how much was listened\n",
    "result_w_diff = result_w_age.merge(result_w_age.groupby(['listener_id','track_id']).apply(lambda x: (x['listen_duration']-x['track_duration'])).to_frame(), on=['listener_id','track_id'])"
   ]
  },
  {
   "cell_type": "code",
   "execution_count": null,
   "metadata": {},
   "outputs": [],
   "source": [
    "#renaming the added column\n",
    "result_w_diff.rename(columns={ result_w_diff.columns[-1]: \"for_skipped\"}, inplace = True)"
   ]
  },
  {
   "cell_type": "code",
   "execution_count": null,
   "metadata": {},
   "outputs": [],
   "source": [
    "result_w_diff.head()"
   ]
  },
  {
   "cell_type": "code",
   "execution_count": 302,
   "metadata": {},
   "outputs": [],
   "source": [
    "# Creating a skipped column\n",
    "result_w_diff['skipped'] = np.where(result_w_diff['for_skipped']< 0, 'Yes', 'No')"
   ]
  },
  {
   "cell_type": "markdown",
   "metadata": {},
   "source": [
    "### A bit of ML"
   ]
  },
  {
   "cell_type": "code",
   "execution_count": 316,
   "metadata": {},
   "outputs": [],
   "source": [
    "import xgboost\n",
    "from xgboost import XGBClassifier\n",
    "from sklearn.model_selection import train_test_split\n",
    "from sklearn.metrics import accuracy_score\n",
    "from sklearn.preprocessing import LabelEncoder\n",
    "from sklearn.preprocessing import OneHotEncoder"
   ]
  },
  {
   "cell_type": "code",
   "execution_count": 317,
   "metadata": {},
   "outputs": [],
   "source": [
    "dataset = df_ml.values"
   ]
  },
  {
   "cell_type": "code",
   "execution_count": 322,
   "metadata": {},
   "outputs": [],
   "source": [
    "# I need to add to X all but one column. I didn't want to type their names...\n",
    "columns = df_ml.columns\n",
    "mask = np.ones(columns.shape, dtype=bool)\n",
    "i = 4\n",
    "mask[i] = 0\n",
    "X = df_ml[columns[mask]]"
   ]
  },
  {
   "cell_type": "code",
   "execution_count": 340,
   "metadata": {},
   "outputs": [
    {
     "data": {
      "text/plain": [
       "Country Code                                      object\n",
       "listener_prev_month_avg_daily_tracks_listened    float64\n",
       "listening_context                                 object\n",
       "recommender_algorithm_name                        object\n",
       "track_genre_category                              object\n",
       "User Age                                           int64\n",
       "dtype: object"
      ]
     },
     "execution_count": 340,
     "metadata": {},
     "output_type": "execute_result"
    }
   ],
   "source": [
    "X.dtypes"
   ]
  },
  {
   "cell_type": "code",
   "execution_count": 324,
   "metadata": {},
   "outputs": [],
   "source": [
    "Y = df_ml['Skipped']"
   ]
  },
  {
   "cell_type": "code",
   "execution_count": null,
   "metadata": {},
   "outputs": [],
   "source": [
    "# # encode string input values as integers\n",
    "# encoded_x = None\n",
    "# for i in range(0, X.shape[1]):\n",
    "#     label_encoder = LabelEncoder()\n",
    "#     feature = label_encoder.fit_transform(X.iloc[:,i])\n",
    "#     feature = feature.reshape(X.shape[0], 1)\n",
    "#     onehot_encoder = OneHotEncoder(sparse=False)\n",
    "#     feature = onehot_encoder.fit_transform(feature)\n",
    "#     if encoded_x is None:\n",
    "#         encoded_x = feature\n",
    "#     else:\n",
    "#         encoded_x = numpy.concatenate((encoded_x, feature), axis=1)\n",
    "# print(\"X shape: : \", encoded_x.shape)"
   ]
  },
  {
   "cell_type": "code",
   "execution_count": null,
   "metadata": {},
   "outputs": [],
   "source": [
    "# onehot_encoder = OneHotEncoder(sparse=False)\n",
    "# # df.select_dtypes(include=['int'])\n",
    "# feature = onehot_encoder.fit_transform(X.select_dtypes(include=['object']))"
   ]
  },
  {
   "cell_type": "code",
   "execution_count": 336,
   "metadata": {},
   "outputs": [],
   "source": [
    "X_enc = pd.get_dummies(X, prefix_sep='_', drop_first=True)"
   ]
  },
  {
   "cell_type": "code",
   "execution_count": 378,
   "metadata": {},
   "outputs": [
    {
     "data": {
      "text/plain": [
       "['listener_prev_month_avg_daily_tracks_listened',\n",
       " 'User Age',\n",
       " 'Country Code_US',\n",
       " 'Country Code_`',\n",
       " 'listening_context_collection',\n",
       " 'listening_context_personal-recommended',\n",
       " 'listening_context_playlists',\n",
       " 'listening_context_search',\n",
       " 'listening_context_stream',\n",
       " 'listening_context_tracks',\n",
       " 'listening_context_users',\n",
       " 'listening_context_you',\n",
       " 'recommender_algorithm_name_content-based',\n",
       " 'recommender_algorithm_name_fallback',\n",
       " 'recommender_algorithm_name_hybrid',\n",
       " 'track_genre_category_Country',\n",
       " 'track_genre_category_Dance & Electronic',\n",
       " 'track_genre_category_HipHop & R&B',\n",
       " 'track_genre_category_Jazz',\n",
       " 'track_genre_category_Latin',\n",
       " 'track_genre_category_Metal',\n",
       " 'track_genre_category_Pop',\n",
       " 'track_genre_category_Reggae',\n",
       " 'track_genre_category_Rock',\n",
       " 'track_genre_category_Speech',\n",
       " 'track_genre_category_Unknown',\n",
       " 'track_genre_category_World']"
      ]
     },
     "execution_count": 378,
     "metadata": {},
     "output_type": "execute_result"
    }
   ],
   "source": [
    "X_enc.columns.tolist()"
   ]
  },
  {
   "cell_type": "code",
   "execution_count": 349,
   "metadata": {},
   "outputs": [],
   "source": [
    "# combine X_enc and numerical columns\n",
    "fully_encoded_x = np.concatenate((X.select_dtypes(exclude=['object']), X_enc), axis = 1)"
   ]
  },
  {
   "cell_type": "code",
   "execution_count": 338,
   "metadata": {},
   "outputs": [],
   "source": [
    "label_encoder = LabelEncoder()\n",
    "label_encoder = label_encoder.fit(Y)\n",
    "label_encoded_y = label_encoder.transform(Y)"
   ]
  },
  {
   "cell_type": "code",
   "execution_count": 351,
   "metadata": {},
   "outputs": [],
   "source": [
    "X_train, X_test, y_train, y_test = train_test_split(fully_encoded_x, label_encoded_y, test_size=0.3, random_state=43)"
   ]
  },
  {
   "cell_type": "code",
   "execution_count": 352,
   "metadata": {},
   "outputs": [
    {
     "name": "stdout",
     "output_type": "stream",
     "text": [
      "XGBClassifier(base_score=0.5, booster='gbtree', colsample_bylevel=1,\n",
      "              colsample_bynode=1, colsample_bytree=1, gamma=0,\n",
      "              learning_rate=0.1, max_delta_step=0, max_depth=3,\n",
      "              min_child_weight=1, missing=None, n_estimators=100, n_jobs=1,\n",
      "              nthread=None, objective='binary:logistic', random_state=0,\n",
      "              reg_alpha=0, reg_lambda=1, scale_pos_weight=1, seed=None,\n",
      "              silent=None, subsample=1, verbosity=1)\n"
     ]
    }
   ],
   "source": [
    "model = XGBClassifier()\n",
    "model.fit(X_train, y_train)\n",
    "print(model)"
   ]
  },
  {
   "cell_type": "code",
   "execution_count": 353,
   "metadata": {},
   "outputs": [],
   "source": [
    "y_pred = model.predict(X_test)"
   ]
  },
  {
   "cell_type": "code",
   "execution_count": 354,
   "metadata": {},
   "outputs": [],
   "source": [
    "predictions = [round(value) for value in y_pred]"
   ]
  },
  {
   "cell_type": "code",
   "execution_count": 355,
   "metadata": {},
   "outputs": [
    {
     "name": "stdout",
     "output_type": "stream",
     "text": [
      "Accuracy: 70.57%\n"
     ]
    }
   ],
   "source": [
    "accuracy = accuracy_score(y_test, predictions)\n",
    "print(\"Accuracy: %.2f%%\" % (accuracy * 100.0))"
   ]
  },
  {
   "cell_type": "markdown",
   "metadata": {},
   "source": [
    "Not clear if it's a good or bad result, but the goal here is different."
   ]
  },
  {
   "cell_type": "code",
   "execution_count": 387,
   "metadata": {},
   "outputs": [
    {
     "data": {
      "text/plain": [
       "([<matplotlib.axis.XTick at 0x2488c2668>,\n",
       "  <matplotlib.axis.XTick at 0x227ddfef0>,\n",
       "  <matplotlib.axis.XTick at 0x2488a51d0>,\n",
       "  <matplotlib.axis.XTick at 0x2488dda20>,\n",
       "  <matplotlib.axis.XTick at 0x2488ddef0>,\n",
       "  <matplotlib.axis.XTick at 0x2488e6470>,\n",
       "  <matplotlib.axis.XTick at 0x2488e69b0>,\n",
       "  <matplotlib.axis.XTick at 0x2488e6f28>,\n",
       "  <matplotlib.axis.XTick at 0x2488ec4e0>,\n",
       "  <matplotlib.axis.XTick at 0x2488e6518>,\n",
       "  <matplotlib.axis.XTick at 0x2488dd9e8>,\n",
       "  <matplotlib.axis.XTick at 0x2488ecd68>,\n",
       "  <matplotlib.axis.XTick at 0x2488f3320>,\n",
       "  <matplotlib.axis.XTick at 0x2488f3898>,\n",
       "  <matplotlib.axis.XTick at 0x2488f3e10>,\n",
       "  <matplotlib.axis.XTick at 0x2488f93c8>,\n",
       "  <matplotlib.axis.XTick at 0x2488f9940>,\n",
       "  <matplotlib.axis.XTick at 0x2488f9eb8>,\n",
       "  <matplotlib.axis.XTick at 0x248900470>,\n",
       "  <matplotlib.axis.XTick at 0x2488f9f98>,\n",
       "  <matplotlib.axis.XTick at 0x2488f3278>,\n",
       "  <matplotlib.axis.XTick at 0x2489003c8>,\n",
       "  <matplotlib.axis.XTick at 0x248900e80>,\n",
       "  <matplotlib.axis.XTick at 0x248906438>,\n",
       "  <matplotlib.axis.XTick at 0x2489069b0>,\n",
       "  <matplotlib.axis.XTick at 0x248906f28>,\n",
       "  <matplotlib.axis.XTick at 0x24890c4e0>,\n",
       "  <matplotlib.axis.XTick at 0x24890ca58>,\n",
       "  <matplotlib.axis.XTick at 0x24890cba8>],\n",
       " <a list of 29 Text xticklabel objects>)"
      ]
     },
     "execution_count": 387,
     "metadata": {},
     "output_type": "execute_result"
    },
    {
     "data": {
      "image/png": "[encoded data removed]",
      "text/plain": [
       "<Figure size 1440x720 with 1 Axes>"
      ]
     },
     "metadata": {
      "needs_background": "light"
     },
     "output_type": "display_data"
    }
   ],
   "source": [
    "plt.figure(figsize=(20,10))\n",
    "plt.plot(model.feature_importances_)\n",
    "plt.xticks(np.arange(X_train.shape[1]), X.select_dtypes(exclude=['object']).columns.tolist() + X_enc.columns.tolist(), rotation=90)"
   ]
  },
  {
   "cell_type": "markdown",
   "metadata": {},
   "source": [
    "This spike cannot be a simple coincidence. Probably the 'tracks' page is where users spend more time probably? Need to look into it a bit more with some extra data. In the meantime, let's go back to Tableau. We have already mentioned issues with the \"search\" context above."
   ]
  },
  {
   "cell_type": "markdown",
   "metadata": {},
   "source": [
    "\"Tracks\" is the main feeder. Lots of usage --> lots of abandonment. But is it all?"
   ]
  },
  {
   "cell_type": "markdown",
   "metadata": {},
   "source": [
    "<img src = \"context overview percent.JPG\">"
   ]
  },
  {
   "cell_type": "markdown",
   "metadata": {},
   "source": [
    "If you compare numbers across the columns, they will be more or less similar for every context except search. Listen duration and previous month listening time definitely lag. It means that tracks coming from search are not as attractive to users and from other sources. And it leads to skipping."
   ]
  },
  {
   "cell_type": "markdown",
   "metadata": {},
   "source": [
    "<img src = \"context issues.jpg\">"
   ]
  },
  {
   "cell_type": "markdown",
   "metadata": {},
   "source": [
    "Search definitely lags in every metric: tracks are shorter, users listen for fewer seconds, and finally the number of tracks per user is the minimal. It also overlaps well with numerous complaints one can find on Reddit about Soundcloud's often not so perfect search results. As to skipped tracks: if users skip, they skip from search fairly fast. The number shown is an average listen duration."
   ]
  },
  {
   "cell_type": "markdown",
   "metadata": {},
   "source": [
    "<img src = \"skip by context.jpg\">"
   ]
  },
  {
   "cell_type": "markdown",
   "metadata": {},
   "source": [
    "An alternative angle as a combination of user counts, tracks per user and tracks' durations:"
   ]
  },
  {
   "cell_type": "markdown",
   "metadata": {},
   "source": [
    "<img src = \"id_length_context.jpg\">"
   ]
  },
  {
   "cell_type": "markdown",
   "metadata": {},
   "source": [
    "\"Tracks\" are used by younger users (meaning those who registered less recently). They also rely on \"personal-recommended.\""
   ]
  },
  {
   "cell_type": "markdown",
   "metadata": {},
   "source": [
    "Finally the trickiest table:"
   ]
  },
  {
   "cell_type": "markdown",
   "metadata": {},
   "source": [
    "<img src = \"against search.JPG\">"
   ]
  },
  {
   "cell_type": "markdown",
   "metadata": {},
   "source": [
    "This is a % difference in average listen duration computed against the \"search\" listening context. As you see, it's not the worst but definitely isn't doing well."
   ]
  },
  {
   "cell_type": "markdown",
   "metadata": {},
   "source": [
    "Some high-level cohort analysis.\n",
    "Cohorts are defined based on when users listened the recommended track for the last time and when they signed up. On the y-axis: the running sum of records, a.k.a. tracks."
   ]
  },
  {
   "cell_type": "markdown",
   "metadata": {},
   "source": [
    "<img src = \"retention.jpg\">"
   ]
  },
  {
   "cell_type": "markdown",
   "metadata": {},
   "source": [
    "Lots of information but not really eye-opening, or anything you won't know already from working on other projects. 2009 was the weakest year, 2015 was the strongest. And whether users skipped tracks didn't have any effect. But it's a powerful view and technique and can be used for other purposes."
   ]
  },
  {
   "cell_type": "markdown",
   "metadata": {},
   "source": [
    "### Summary and next steps"
   ]
  },
  {
   "cell_type": "markdown",
   "metadata": {},
   "source": [
    "Seems that skipped tracks have always been and still are a problem of Soundcloud. I don't see a lot of improvement on this front over the course of last year, while the platform has been steadily growing. Also, the \"search\" and \"track\" functional stil has room for growth. I assume that one might influence another in a positive ways.\n",
    "\n",
    "As possible next steps, I would like to understand why skipped tracks are bad for the business, what other KPIs are important (for example, you, as a company, should be less happy with users listening long mixes b/c these users are not exposed to ads for an hour or even more). "
   ]
  },
  {
   "cell_type": "code",
   "execution_count": null,
   "metadata": {},
   "outputs": [],
   "source": [
    "# cleaning columns from brackets, quotes, etc.\n",
    "# df['result'] = df['result'].str.replace(r'\\D', '')\n",
    "# df_values['ts'] = df_values['ts'].str.replace(r'[','')\n",
    "# df_values['ts'] = df_values['ts'].str[1:] # removing the first bracket\n",
    "# df_values.iloc[:,-1] = df_values.iloc[:,-1].map(lambda x: str(x)[:-1])  # don't want to type the name of the last column. Removing the bracket\n",
    "# df_values['country_code'].apply(lambda s: s.str.replace('\\'', ''))\n",
    "# df_values['client_version'].apply(lambda s: s.str.replace('\\'', ''))\n",
    "# df_values['listening_context'].apply(lambda s: s.str.replace('\\'', ''))\n",
    "# df_values['listening_context'].apply(lambda s: s.str.replace('\\'', ''))\n",
    "# df_values['listening_context'].apply(lambda s: s.str.replace('\\'', ''))"
   ]
  },
  {
   "cell_type": "code",
   "execution_count": null,
   "metadata": {},
   "outputs": [],
   "source": [
    "# test['country_code'].apply(lambda s: s.str.replace('\\'', ''))\n",
    "# test['country_code'].astype(str).str.replace('\\'', '')"
   ]
  },
  {
   "cell_type": "code",
   "execution_count": null,
   "metadata": {},
   "outputs": [],
   "source": [
    "# removing brackets:\n",
    "# test['ts'] = test['ts'].str[1:]\n",
    "# test.iloc[:,-1] = test.iloc[:,-1].map(lambda x: str(x)[:-1])  # don't want to type the name of the last column. Removing the bracket\n",
    "\n",
    "\n",
    "# # removing quotes\n",
    "# for a in test.iloc[:,1:7].columns.tolist():\n",
    "#     test[a] = test[a].astype(str).str.replace('\\'', '')\n",
    "\n",
    "# for b in test[['listener_id','listener_top_genre_category_listened']].columns.tolist():\n",
    "#     test[b] = test[b].astype(str).str.replace('\\'', '')    \n"
   ]
  },
  {
   "cell_type": "code",
   "execution_count": null,
   "metadata": {},
   "outputs": [],
   "source": [
    "# unix timestamp to date\n",
    "# test['ts'] = pd.to_datetime(test['ts'], unit='s')\n",
    "# test['track_upload_date'] = pd.to_datetime(test['track_upload_date'], unit='s')\n",
    "# test['listener_signup_date'] = pd.to_datetime(test['listener_signup_date'], unit='s')\n"
   ]
  },
  {
   "cell_type": "code",
   "execution_count": null,
   "metadata": {},
   "outputs": [],
   "source": [
    "# converting milliseconds to seconds for now\n",
    "# test['track_duration'] = test['track_duration'].astype(float)/1000\n",
    "# test['listen_duration'] = test['listen_duration'].astype(float)/1000\n",
    "# test['listener_prev_month_listening_time'] = test['listener_prev_month_listening_time'].astype(float)/1000"
   ]
  },
  {
   "cell_type": "code",
   "execution_count": null,
   "metadata": {},
   "outputs": [],
   "source": [
    "# test['listener_prev_month_listening_time'].astype(str).applymap(lambda x: isinstance(x, (int, float)))\n",
    "# test['listener_prev_month_listening_time'] = test['listener_prev_month_listening_time'].astype(str)"
   ]
  },
  {
   "cell_type": "code",
   "execution_count": null,
   "metadata": {},
   "outputs": [],
   "source": [
    "# test['listener_prev_month_listening_time'].astype(str).apply(lambda x: isinstance(x, (str)))"
   ]
  },
  {
   "cell_type": "code",
   "execution_count": null,
   "metadata": {},
   "outputs": [],
   "source": [
    "# test['listener_prev_month_listening_time']"
   ]
  },
  {
   "cell_type": "code",
   "execution_count": null,
   "metadata": {},
   "outputs": [],
   "source": [
    "# test.head()"
   ]
  },
  {
   "cell_type": "code",
   "execution_count": null,
   "metadata": {},
   "outputs": [],
   "source": [
    "# patterns= [r'\\D+'] # non integers\n",
    "# # for p in patterns:\n",
    "# #     match=  re.findall(p, test['listener_prev_month_listening_time'])\n",
    "# #     print(match)\n",
    "\n",
    "# # test['listener_prev_month_listening_time'].str.contains(patterns, regex=True)\n",
    "# # test['listener_prev_month_listening_time'] = df_values['listener_prev_month_listening_time']\n",
    "# test['listener_prev_month_listening_time'] = pd.to_numeric(test['listener_prev_month_listening_time'], errors='ignore')\n",
    "# test['listener_prev_month_listening_time'].fillna(0, inplace = True)\n",
    "# # test['listener_prev_month_listening_time'].apply(lambda x: any(pd.Series(x).str.contains(patterns)))"
   ]
  },
  {
   "cell_type": "code",
   "execution_count": null,
   "metadata": {},
   "outputs": [],
   "source": [
    "# test[test.isnull().any(axis=1)]"
   ]
  },
  {
   "cell_type": "code",
   "execution_count": null,
   "metadata": {},
   "outputs": [],
   "source": []
  }
 ],
 "metadata": {
  "kernelspec": {
   "display_name": "Python 3",
   "language": "python",
   "name": "python3"
  },
  "language_info": {
   "codemirror_mode": {
    "name": "ipython",
    "version": 3
   },
   "file_extension": ".py",
   "mimetype": "text/x-python",
   "name": "python",
   "nbconvert_exporter": "python",
   "pygments_lexer": "ipython3",
   "version": "3.7.1"
  }
 },
 "nbformat": 4,
 "nbformat_minor": 2
}
