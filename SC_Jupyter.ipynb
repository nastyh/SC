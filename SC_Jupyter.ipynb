{
 "cells": [
  {
   "cell_type": "markdown",
   "metadata": {},
   "source": [
    "All provided files should be in the same folder."
   ]
  },
  {
   "cell_type": "markdown",
   "metadata": {},
   "source": [
    "### Load packages"
   ]
  },
  {
   "cell_type": "code",
   "execution_count": 204,
   "metadata": {},
   "outputs": [],
   "source": [
    "import pandas as pd\n",
    "import numpy as np\n",
    "import matplotlib\n",
    "import matplotlib.pyplot as plt\n",
    "import scipy.stats as st\n",
    "import seaborn as sns\n",
    "import pandas_profiling\n",
    "import datetime\n",
    "%matplotlib inline\n",
    "from io import StringIO\n",
    "import os\n",
    "import json\n",
    "import re"
   ]
  },
  {
   "cell_type": "markdown",
   "metadata": {},
   "source": [
    "### Load the file"
   ]
  },
  {
   "cell_type": "code",
   "execution_count": 205,
   "metadata": {},
   "outputs": [],
   "source": [
    "# we can deal with it just in the memory. Alternatively I pushed it through Databricks and uploaded the final table into a Postgresql database. \n",
    "os.chdir(r'C:\\Users\\us61565\\Desktop\\Internal\\Kaggle') # use the right address here\n",
    "\n",
    "# Reading the json as a dict\n",
    "with open('sc_data_science_challenge.json') as json_data:\n",
    "    data = json.load(json_data)"
   ]
  },
  {
   "cell_type": "code",
   "execution_count": null,
   "metadata": {},
   "outputs": [],
   "source": [
    "data"
   ]
  },
  {
   "cell_type": "markdown",
   "metadata": {},
   "source": [
    "### Make a dataframe"
   ]
  },
  {
   "cell_type": "code",
   "execution_count": 207,
   "metadata": {},
   "outputs": [],
   "source": [
    "# Had to make everything of an equal length first \n",
    "def pad_dict_list(dict_list, padel):\n",
    "    lmax = 0\n",
    "    for lname in dict_list.keys():\n",
    "        lmax = max(lmax, len(dict_list[lname]))\n",
    "    for lname in dict_list.keys():\n",
    "        ll = len(dict_list[lname])\n",
    "        if  ll < lmax:\n",
    "            dict_list[lname] += [padel] * (lmax - ll)\n",
    "    return dict_list"
   ]
  },
  {
   "cell_type": "code",
   "execution_count": 208,
   "metadata": {},
   "outputs": [],
   "source": [
    "data1 = pad_dict_list(data, 1) # using the function from above"
   ]
  },
  {
   "cell_type": "code",
   "execution_count": 209,
   "metadata": {},
   "outputs": [],
   "source": [
    "df = pd.DataFrame.from_dict(data1).T"
   ]
  },
  {
   "cell_type": "code",
   "execution_count": 210,
   "metadata": {},
   "outputs": [
    {
     "data": {
      "text/plain": [
       "0                                                ts\n",
       "1                                      country_code\n",
       "2                                    client_version\n",
       "3                                 listening_context\n",
       "4                        recommender_algorithm_name\n",
       "5                                          track_id\n",
       "6                              track_genre_category\n",
       "7                                 track_upload_date\n",
       "8                                    track_duration\n",
       "9                                   listen_duration\n",
       "10                                      listener_id\n",
       "11                             listener_signup_date\n",
       "12             listener_top_genre_category_listened\n",
       "13               listener_prev_month_listening_time\n",
       "14    listener_prev_month_avg_daily_tracks_listened\n",
       "Name: columns, dtype: object"
      ]
     },
     "execution_count": 210,
     "metadata": {},
     "output_type": "execute_result"
    }
   ],
   "source": [
    "cols = df.T.iloc[0:15,1]  # saving columns' names\n",
    "cols"
   ]
  },
  {
   "cell_type": "code",
   "execution_count": 211,
   "metadata": {},
   "outputs": [],
   "source": [
    "cols_2_split = df.T.iloc[0:,0] # data to split"
   ]
  },
  {
   "cell_type": "code",
   "execution_count": 212,
   "metadata": {},
   "outputs": [],
   "source": [
    "# make sure seconds are good. Remove from the final\n",
    "original = cols_2_split.astype(str).str.split(', ', expand = True) "
   ]
  },
  {
   "cell_type": "code",
   "execution_count": 213,
   "metadata": {},
   "outputs": [],
   "source": [
    "original.columns = cols"
   ]
  },
  {
   "cell_type": "code",
   "execution_count": 214,
   "metadata": {},
   "outputs": [
    {
     "data": {
      "text/html": [
       "<div>\n",
       "<style scoped>\n",
       "    .dataframe tbody tr th:only-of-type {\n",
       "        vertical-align: middle;\n",
       "    }\n",
       "\n",
       "    .dataframe tbody tr th {\n",
       "        vertical-align: top;\n",
       "    }\n",
       "\n",
       "    .dataframe thead th {\n",
       "        text-align: right;\n",
       "    }\n",
       "</style>\n",
       "<table border=\"1\" class=\"dataframe\">\n",
       "  <thead>\n",
       "    <tr style=\"text-align: right;\">\n",
       "      <th>columns</th>\n",
       "      <th>ts</th>\n",
       "      <th>country_code</th>\n",
       "      <th>client_version</th>\n",
       "      <th>listening_context</th>\n",
       "      <th>recommender_algorithm_name</th>\n",
       "      <th>track_id</th>\n",
       "      <th>track_genre_category</th>\n",
       "      <th>track_upload_date</th>\n",
       "      <th>track_duration</th>\n",
       "      <th>listen_duration</th>\n",
       "      <th>listener_id</th>\n",
       "      <th>listener_signup_date</th>\n",
       "      <th>listener_top_genre_category_listened</th>\n",
       "      <th>listener_prev_month_listening_time</th>\n",
       "      <th>listener_prev_month_avg_daily_tracks_listened</th>\n",
       "    </tr>\n",
       "  </thead>\n",
       "  <tbody>\n",
       "    <tr>\n",
       "      <th>0</th>\n",
       "      <td>[1467398683</td>\n",
       "      <td>'GB'</td>\n",
       "      <td>'204.0.20'</td>\n",
       "      <td>'tracks'</td>\n",
       "      <td>'content-based'</td>\n",
       "      <td>'b47911d0e80d1a8a959a2b726654bbfa'</td>\n",
       "      <td>'Dance &amp; Electronic'</td>\n",
       "      <td>1466640000</td>\n",
       "      <td>413933</td>\n",
       "      <td>413933</td>\n",
       "      <td>'0001d5755511cae40e5b32d83a3decce'</td>\n",
       "      <td>1324771200</td>\n",
       "      <td>'HipHop &amp; R&amp;B'</td>\n",
       "      <td>617270940.0</td>\n",
       "      <td>22.5]</td>\n",
       "    </tr>\n",
       "    <tr>\n",
       "      <th>1</th>\n",
       "      <td>[1467398924</td>\n",
       "      <td>'GB'</td>\n",
       "      <td>'204.0.20'</td>\n",
       "      <td>'tracks'</td>\n",
       "      <td>'content-based'</td>\n",
       "      <td>'1f5e4bc82ba7fc802f780870f9b69191'</td>\n",
       "      <td>'HipHop &amp; R&amp;B'</td>\n",
       "      <td>1466726400</td>\n",
       "      <td>402640</td>\n",
       "      <td>110722</td>\n",
       "      <td>'0001d5755511cae40e5b32d83a3decce'</td>\n",
       "      <td>1324771200</td>\n",
       "      <td>'HipHop &amp; R&amp;B'</td>\n",
       "      <td>617270940.0</td>\n",
       "      <td>22.5]</td>\n",
       "    </tr>\n",
       "    <tr>\n",
       "      <th>2</th>\n",
       "      <td>[1467820636</td>\n",
       "      <td>'GB'</td>\n",
       "      <td>'204.0.20'</td>\n",
       "      <td>'users'</td>\n",
       "      <td>'content-based'</td>\n",
       "      <td>'092495283958e5d00f61cf2afe970d83'</td>\n",
       "      <td>'Pop'</td>\n",
       "      <td>1467072000</td>\n",
       "      <td>494811</td>\n",
       "      <td>193818</td>\n",
       "      <td>'0001d5755511cae40e5b32d83a3decce'</td>\n",
       "      <td>1324771200</td>\n",
       "      <td>'HipHop &amp; R&amp;B'</td>\n",
       "      <td>617270940.0</td>\n",
       "      <td>22.5]</td>\n",
       "    </tr>\n",
       "    <tr>\n",
       "      <th>3</th>\n",
       "      <td>[1467401951</td>\n",
       "      <td>'US'</td>\n",
       "      <td>'36.0.8'</td>\n",
       "      <td>'collection'</td>\n",
       "      <td>'content-based'</td>\n",
       "      <td>'211cd7be59941679f5ea847879b3b19b'</td>\n",
       "      <td>'HipHop &amp; R&amp;B'</td>\n",
       "      <td>1402272000</td>\n",
       "      <td>361585</td>\n",
       "      <td>361585</td>\n",
       "      <td>'000264c5b34ad04999535c8b6a8b86e2'</td>\n",
       "      <td>1379376000</td>\n",
       "      <td>'HipHop &amp; R&amp;B'</td>\n",
       "      <td>112239180.0</td>\n",
       "      <td>10.5]</td>\n",
       "    </tr>\n",
       "    <tr>\n",
       "      <th>4</th>\n",
       "      <td>[1467402159</td>\n",
       "      <td>'US'</td>\n",
       "      <td>'36.0.8'</td>\n",
       "      <td>'collection'</td>\n",
       "      <td>'content-based'</td>\n",
       "      <td>'0e7ca1a7524aba84473540fa0d0ec75f'</td>\n",
       "      <td>'Pop'</td>\n",
       "      <td>1448668800</td>\n",
       "      <td>373700</td>\n",
       "      <td>160162</td>\n",
       "      <td>'000264c5b34ad04999535c8b6a8b86e2'</td>\n",
       "      <td>1379376000</td>\n",
       "      <td>'HipHop &amp; R&amp;B'</td>\n",
       "      <td>112239180.0</td>\n",
       "      <td>10.5]</td>\n",
       "    </tr>\n",
       "  </tbody>\n",
       "</table>\n",
       "</div>"
      ],
      "text/plain": [
       "columns           ts country_code client_version listening_context  \\\n",
       "0        [1467398683         'GB'     '204.0.20'          'tracks'   \n",
       "1        [1467398924         'GB'     '204.0.20'          'tracks'   \n",
       "2        [1467820636         'GB'     '204.0.20'           'users'   \n",
       "3        [1467401951         'US'       '36.0.8'      'collection'   \n",
       "4        [1467402159         'US'       '36.0.8'      'collection'   \n",
       "\n",
       "columns recommender_algorithm_name                            track_id  \\\n",
       "0                  'content-based'  'b47911d0e80d1a8a959a2b726654bbfa'   \n",
       "1                  'content-based'  '1f5e4bc82ba7fc802f780870f9b69191'   \n",
       "2                  'content-based'  '092495283958e5d00f61cf2afe970d83'   \n",
       "3                  'content-based'  '211cd7be59941679f5ea847879b3b19b'   \n",
       "4                  'content-based'  '0e7ca1a7524aba84473540fa0d0ec75f'   \n",
       "\n",
       "columns  track_genre_category track_upload_date track_duration  \\\n",
       "0        'Dance & Electronic'        1466640000         413933   \n",
       "1              'HipHop & R&B'        1466726400         402640   \n",
       "2                       'Pop'        1467072000         494811   \n",
       "3              'HipHop & R&B'        1402272000         361585   \n",
       "4                       'Pop'        1448668800         373700   \n",
       "\n",
       "columns listen_duration                         listener_id  \\\n",
       "0                413933  '0001d5755511cae40e5b32d83a3decce'   \n",
       "1                110722  '0001d5755511cae40e5b32d83a3decce'   \n",
       "2                193818  '0001d5755511cae40e5b32d83a3decce'   \n",
       "3                361585  '000264c5b34ad04999535c8b6a8b86e2'   \n",
       "4                160162  '000264c5b34ad04999535c8b6a8b86e2'   \n",
       "\n",
       "columns listener_signup_date listener_top_genre_category_listened  \\\n",
       "0                 1324771200                       'HipHop & R&B'   \n",
       "1                 1324771200                       'HipHop & R&B'   \n",
       "2                 1324771200                       'HipHop & R&B'   \n",
       "3                 1379376000                       'HipHop & R&B'   \n",
       "4                 1379376000                       'HipHop & R&B'   \n",
       "\n",
       "columns listener_prev_month_listening_time  \\\n",
       "0                              617270940.0   \n",
       "1                              617270940.0   \n",
       "2                              617270940.0   \n",
       "3                              112239180.0   \n",
       "4                              112239180.0   \n",
       "\n",
       "columns listener_prev_month_avg_daily_tracks_listened  \n",
       "0                                               22.5]  \n",
       "1                                               22.5]  \n",
       "2                                               22.5]  \n",
       "3                                               10.5]  \n",
       "4                                               10.5]  "
      ]
     },
     "execution_count": 214,
     "metadata": {},
     "output_type": "execute_result"
    }
   ],
   "source": [
    "original.head()"
   ]
  },
  {
   "cell_type": "code",
   "execution_count": 215,
   "metadata": {},
   "outputs": [],
   "source": [
    "# remove\n",
    "# t1 = cols_2_split.astype(str).map(lambda x: x[0]).str.rsplit(', ').str"
   ]
  },
  {
   "cell_type": "code",
   "execution_count": 216,
   "metadata": {},
   "outputs": [],
   "source": [
    "df_values = cols_2_split.astype(str).str.split(', ', expand = True) "
   ]
  },
  {
   "cell_type": "code",
   "execution_count": 217,
   "metadata": {},
   "outputs": [],
   "source": [
    "# Giving names to columns\n",
    "df_values.columns = cols"
   ]
  },
  {
   "cell_type": "code",
   "execution_count": 218,
   "metadata": {},
   "outputs": [
    {
     "data": {
      "text/html": [
       "<div>\n",
       "<style scoped>\n",
       "    .dataframe tbody tr th:only-of-type {\n",
       "        vertical-align: middle;\n",
       "    }\n",
       "\n",
       "    .dataframe tbody tr th {\n",
       "        vertical-align: top;\n",
       "    }\n",
       "\n",
       "    .dataframe thead th {\n",
       "        text-align: right;\n",
       "    }\n",
       "</style>\n",
       "<table border=\"1\" class=\"dataframe\">\n",
       "  <thead>\n",
       "    <tr style=\"text-align: right;\">\n",
       "      <th>columns</th>\n",
       "      <th>ts</th>\n",
       "      <th>country_code</th>\n",
       "      <th>client_version</th>\n",
       "      <th>listening_context</th>\n",
       "      <th>recommender_algorithm_name</th>\n",
       "      <th>track_id</th>\n",
       "      <th>track_genre_category</th>\n",
       "      <th>track_upload_date</th>\n",
       "      <th>track_duration</th>\n",
       "      <th>listen_duration</th>\n",
       "      <th>listener_id</th>\n",
       "      <th>listener_signup_date</th>\n",
       "      <th>listener_top_genre_category_listened</th>\n",
       "      <th>listener_prev_month_listening_time</th>\n",
       "      <th>listener_prev_month_avg_daily_tracks_listened</th>\n",
       "    </tr>\n",
       "  </thead>\n",
       "  <tbody>\n",
       "    <tr>\n",
       "      <th>0</th>\n",
       "      <td>[1467398683</td>\n",
       "      <td>'GB'</td>\n",
       "      <td>'204.0.20'</td>\n",
       "      <td>'tracks'</td>\n",
       "      <td>'content-based'</td>\n",
       "      <td>'b47911d0e80d1a8a959a2b726654bbfa'</td>\n",
       "      <td>'Dance &amp; Electronic'</td>\n",
       "      <td>1466640000</td>\n",
       "      <td>413933</td>\n",
       "      <td>413933</td>\n",
       "      <td>'0001d5755511cae40e5b32d83a3decce'</td>\n",
       "      <td>1324771200</td>\n",
       "      <td>'HipHop &amp; R&amp;B'</td>\n",
       "      <td>617270940.0</td>\n",
       "      <td>22.5]</td>\n",
       "    </tr>\n",
       "    <tr>\n",
       "      <th>1</th>\n",
       "      <td>[1467398924</td>\n",
       "      <td>'GB'</td>\n",
       "      <td>'204.0.20'</td>\n",
       "      <td>'tracks'</td>\n",
       "      <td>'content-based'</td>\n",
       "      <td>'1f5e4bc82ba7fc802f780870f9b69191'</td>\n",
       "      <td>'HipHop &amp; R&amp;B'</td>\n",
       "      <td>1466726400</td>\n",
       "      <td>402640</td>\n",
       "      <td>110722</td>\n",
       "      <td>'0001d5755511cae40e5b32d83a3decce'</td>\n",
       "      <td>1324771200</td>\n",
       "      <td>'HipHop &amp; R&amp;B'</td>\n",
       "      <td>617270940.0</td>\n",
       "      <td>22.5]</td>\n",
       "    </tr>\n",
       "    <tr>\n",
       "      <th>2</th>\n",
       "      <td>[1467820636</td>\n",
       "      <td>'GB'</td>\n",
       "      <td>'204.0.20'</td>\n",
       "      <td>'users'</td>\n",
       "      <td>'content-based'</td>\n",
       "      <td>'092495283958e5d00f61cf2afe970d83'</td>\n",
       "      <td>'Pop'</td>\n",
       "      <td>1467072000</td>\n",
       "      <td>494811</td>\n",
       "      <td>193818</td>\n",
       "      <td>'0001d5755511cae40e5b32d83a3decce'</td>\n",
       "      <td>1324771200</td>\n",
       "      <td>'HipHop &amp; R&amp;B'</td>\n",
       "      <td>617270940.0</td>\n",
       "      <td>22.5]</td>\n",
       "    </tr>\n",
       "    <tr>\n",
       "      <th>3</th>\n",
       "      <td>[1467401951</td>\n",
       "      <td>'US'</td>\n",
       "      <td>'36.0.8'</td>\n",
       "      <td>'collection'</td>\n",
       "      <td>'content-based'</td>\n",
       "      <td>'211cd7be59941679f5ea847879b3b19b'</td>\n",
       "      <td>'HipHop &amp; R&amp;B'</td>\n",
       "      <td>1402272000</td>\n",
       "      <td>361585</td>\n",
       "      <td>361585</td>\n",
       "      <td>'000264c5b34ad04999535c8b6a8b86e2'</td>\n",
       "      <td>1379376000</td>\n",
       "      <td>'HipHop &amp; R&amp;B'</td>\n",
       "      <td>112239180.0</td>\n",
       "      <td>10.5]</td>\n",
       "    </tr>\n",
       "    <tr>\n",
       "      <th>4</th>\n",
       "      <td>[1467402159</td>\n",
       "      <td>'US'</td>\n",
       "      <td>'36.0.8'</td>\n",
       "      <td>'collection'</td>\n",
       "      <td>'content-based'</td>\n",
       "      <td>'0e7ca1a7524aba84473540fa0d0ec75f'</td>\n",
       "      <td>'Pop'</td>\n",
       "      <td>1448668800</td>\n",
       "      <td>373700</td>\n",
       "      <td>160162</td>\n",
       "      <td>'000264c5b34ad04999535c8b6a8b86e2'</td>\n",
       "      <td>1379376000</td>\n",
       "      <td>'HipHop &amp; R&amp;B'</td>\n",
       "      <td>112239180.0</td>\n",
       "      <td>10.5]</td>\n",
       "    </tr>\n",
       "  </tbody>\n",
       "</table>\n",
       "</div>"
      ],
      "text/plain": [
       "columns           ts country_code client_version listening_context  \\\n",
       "0        [1467398683         'GB'     '204.0.20'          'tracks'   \n",
       "1        [1467398924         'GB'     '204.0.20'          'tracks'   \n",
       "2        [1467820636         'GB'     '204.0.20'           'users'   \n",
       "3        [1467401951         'US'       '36.0.8'      'collection'   \n",
       "4        [1467402159         'US'       '36.0.8'      'collection'   \n",
       "\n",
       "columns recommender_algorithm_name                            track_id  \\\n",
       "0                  'content-based'  'b47911d0e80d1a8a959a2b726654bbfa'   \n",
       "1                  'content-based'  '1f5e4bc82ba7fc802f780870f9b69191'   \n",
       "2                  'content-based'  '092495283958e5d00f61cf2afe970d83'   \n",
       "3                  'content-based'  '211cd7be59941679f5ea847879b3b19b'   \n",
       "4                  'content-based'  '0e7ca1a7524aba84473540fa0d0ec75f'   \n",
       "\n",
       "columns  track_genre_category track_upload_date track_duration  \\\n",
       "0        'Dance & Electronic'        1466640000         413933   \n",
       "1              'HipHop & R&B'        1466726400         402640   \n",
       "2                       'Pop'        1467072000         494811   \n",
       "3              'HipHop & R&B'        1402272000         361585   \n",
       "4                       'Pop'        1448668800         373700   \n",
       "\n",
       "columns listen_duration                         listener_id  \\\n",
       "0                413933  '0001d5755511cae40e5b32d83a3decce'   \n",
       "1                110722  '0001d5755511cae40e5b32d83a3decce'   \n",
       "2                193818  '0001d5755511cae40e5b32d83a3decce'   \n",
       "3                361585  '000264c5b34ad04999535c8b6a8b86e2'   \n",
       "4                160162  '000264c5b34ad04999535c8b6a8b86e2'   \n",
       "\n",
       "columns listener_signup_date listener_top_genre_category_listened  \\\n",
       "0                 1324771200                       'HipHop & R&B'   \n",
       "1                 1324771200                       'HipHop & R&B'   \n",
       "2                 1324771200                       'HipHop & R&B'   \n",
       "3                 1379376000                       'HipHop & R&B'   \n",
       "4                 1379376000                       'HipHop & R&B'   \n",
       "\n",
       "columns listener_prev_month_listening_time  \\\n",
       "0                              617270940.0   \n",
       "1                              617270940.0   \n",
       "2                              617270940.0   \n",
       "3                              112239180.0   \n",
       "4                              112239180.0   \n",
       "\n",
       "columns listener_prev_month_avg_daily_tracks_listened  \n",
       "0                                               22.5]  \n",
       "1                                               22.5]  \n",
       "2                                               22.5]  \n",
       "3                                               10.5]  \n",
       "4                                               10.5]  "
      ]
     },
     "execution_count": 218,
     "metadata": {},
     "output_type": "execute_result"
    }
   ],
   "source": [
    "df_values.head()"
   ]
  },
  {
   "cell_type": "code",
   "execution_count": 219,
   "metadata": {},
   "outputs": [],
   "source": [
    "# test = df_values"
   ]
  },
  {
   "cell_type": "code",
   "execution_count": 220,
   "metadata": {},
   "outputs": [],
   "source": [
    "# test.head()"
   ]
  },
  {
   "cell_type": "code",
   "execution_count": 221,
   "metadata": {},
   "outputs": [
    {
     "data": {
      "text/html": [
       "<div>\n",
       "<style scoped>\n",
       "    .dataframe tbody tr th:only-of-type {\n",
       "        vertical-align: middle;\n",
       "    }\n",
       "\n",
       "    .dataframe tbody tr th {\n",
       "        vertical-align: top;\n",
       "    }\n",
       "\n",
       "    .dataframe thead th {\n",
       "        text-align: right;\n",
       "    }\n",
       "</style>\n",
       "<table border=\"1\" class=\"dataframe\">\n",
       "  <thead>\n",
       "    <tr style=\"text-align: right;\">\n",
       "      <th>columns</th>\n",
       "      <th>ts</th>\n",
       "      <th>country_code</th>\n",
       "      <th>client_version</th>\n",
       "      <th>listening_context</th>\n",
       "      <th>recommender_algorithm_name</th>\n",
       "      <th>track_id</th>\n",
       "      <th>track_genre_category</th>\n",
       "      <th>track_upload_date</th>\n",
       "      <th>track_duration</th>\n",
       "      <th>listen_duration</th>\n",
       "      <th>listener_id</th>\n",
       "      <th>listener_signup_date</th>\n",
       "      <th>listener_top_genre_category_listened</th>\n",
       "      <th>listener_prev_month_listening_time</th>\n",
       "      <th>listener_prev_month_avg_daily_tracks_listened</th>\n",
       "    </tr>\n",
       "  </thead>\n",
       "  <tbody>\n",
       "    <tr>\n",
       "      <th>0</th>\n",
       "      <td>[1467398683</td>\n",
       "      <td>'GB'</td>\n",
       "      <td>'204.0.20'</td>\n",
       "      <td>'tracks'</td>\n",
       "      <td>'content-based'</td>\n",
       "      <td>'b47911d0e80d1a8a959a2b726654bbfa'</td>\n",
       "      <td>'Dance &amp; Electronic'</td>\n",
       "      <td>1466640000</td>\n",
       "      <td>413933</td>\n",
       "      <td>413933</td>\n",
       "      <td>'0001d5755511cae40e5b32d83a3decce'</td>\n",
       "      <td>1324771200</td>\n",
       "      <td>'HipHop &amp; R&amp;B'</td>\n",
       "      <td>617270940.0</td>\n",
       "      <td>22.5]</td>\n",
       "    </tr>\n",
       "    <tr>\n",
       "      <th>1</th>\n",
       "      <td>[1467398924</td>\n",
       "      <td>'GB'</td>\n",
       "      <td>'204.0.20'</td>\n",
       "      <td>'tracks'</td>\n",
       "      <td>'content-based'</td>\n",
       "      <td>'1f5e4bc82ba7fc802f780870f9b69191'</td>\n",
       "      <td>'HipHop &amp; R&amp;B'</td>\n",
       "      <td>1466726400</td>\n",
       "      <td>402640</td>\n",
       "      <td>110722</td>\n",
       "      <td>'0001d5755511cae40e5b32d83a3decce'</td>\n",
       "      <td>1324771200</td>\n",
       "      <td>'HipHop &amp; R&amp;B'</td>\n",
       "      <td>617270940.0</td>\n",
       "      <td>22.5]</td>\n",
       "    </tr>\n",
       "    <tr>\n",
       "      <th>2</th>\n",
       "      <td>[1467820636</td>\n",
       "      <td>'GB'</td>\n",
       "      <td>'204.0.20'</td>\n",
       "      <td>'users'</td>\n",
       "      <td>'content-based'</td>\n",
       "      <td>'092495283958e5d00f61cf2afe970d83'</td>\n",
       "      <td>'Pop'</td>\n",
       "      <td>1467072000</td>\n",
       "      <td>494811</td>\n",
       "      <td>193818</td>\n",
       "      <td>'0001d5755511cae40e5b32d83a3decce'</td>\n",
       "      <td>1324771200</td>\n",
       "      <td>'HipHop &amp; R&amp;B'</td>\n",
       "      <td>617270940.0</td>\n",
       "      <td>22.5]</td>\n",
       "    </tr>\n",
       "    <tr>\n",
       "      <th>3</th>\n",
       "      <td>[1467401951</td>\n",
       "      <td>'US'</td>\n",
       "      <td>'36.0.8'</td>\n",
       "      <td>'collection'</td>\n",
       "      <td>'content-based'</td>\n",
       "      <td>'211cd7be59941679f5ea847879b3b19b'</td>\n",
       "      <td>'HipHop &amp; R&amp;B'</td>\n",
       "      <td>1402272000</td>\n",
       "      <td>361585</td>\n",
       "      <td>361585</td>\n",
       "      <td>'000264c5b34ad04999535c8b6a8b86e2'</td>\n",
       "      <td>1379376000</td>\n",
       "      <td>'HipHop &amp; R&amp;B'</td>\n",
       "      <td>112239180.0</td>\n",
       "      <td>10.5]</td>\n",
       "    </tr>\n",
       "    <tr>\n",
       "      <th>4</th>\n",
       "      <td>[1467402159</td>\n",
       "      <td>'US'</td>\n",
       "      <td>'36.0.8'</td>\n",
       "      <td>'collection'</td>\n",
       "      <td>'content-based'</td>\n",
       "      <td>'0e7ca1a7524aba84473540fa0d0ec75f'</td>\n",
       "      <td>'Pop'</td>\n",
       "      <td>1448668800</td>\n",
       "      <td>373700</td>\n",
       "      <td>160162</td>\n",
       "      <td>'000264c5b34ad04999535c8b6a8b86e2'</td>\n",
       "      <td>1379376000</td>\n",
       "      <td>'HipHop &amp; R&amp;B'</td>\n",
       "      <td>112239180.0</td>\n",
       "      <td>10.5]</td>\n",
       "    </tr>\n",
       "  </tbody>\n",
       "</table>\n",
       "</div>"
      ],
      "text/plain": [
       "columns           ts country_code client_version listening_context  \\\n",
       "0        [1467398683         'GB'     '204.0.20'          'tracks'   \n",
       "1        [1467398924         'GB'     '204.0.20'          'tracks'   \n",
       "2        [1467820636         'GB'     '204.0.20'           'users'   \n",
       "3        [1467401951         'US'       '36.0.8'      'collection'   \n",
       "4        [1467402159         'US'       '36.0.8'      'collection'   \n",
       "\n",
       "columns recommender_algorithm_name                            track_id  \\\n",
       "0                  'content-based'  'b47911d0e80d1a8a959a2b726654bbfa'   \n",
       "1                  'content-based'  '1f5e4bc82ba7fc802f780870f9b69191'   \n",
       "2                  'content-based'  '092495283958e5d00f61cf2afe970d83'   \n",
       "3                  'content-based'  '211cd7be59941679f5ea847879b3b19b'   \n",
       "4                  'content-based'  '0e7ca1a7524aba84473540fa0d0ec75f'   \n",
       "\n",
       "columns  track_genre_category track_upload_date track_duration  \\\n",
       "0        'Dance & Electronic'        1466640000         413933   \n",
       "1              'HipHop & R&B'        1466726400         402640   \n",
       "2                       'Pop'        1467072000         494811   \n",
       "3              'HipHop & R&B'        1402272000         361585   \n",
       "4                       'Pop'        1448668800         373700   \n",
       "\n",
       "columns listen_duration                         listener_id  \\\n",
       "0                413933  '0001d5755511cae40e5b32d83a3decce'   \n",
       "1                110722  '0001d5755511cae40e5b32d83a3decce'   \n",
       "2                193818  '0001d5755511cae40e5b32d83a3decce'   \n",
       "3                361585  '000264c5b34ad04999535c8b6a8b86e2'   \n",
       "4                160162  '000264c5b34ad04999535c8b6a8b86e2'   \n",
       "\n",
       "columns listener_signup_date listener_top_genre_category_listened  \\\n",
       "0                 1324771200                       'HipHop & R&B'   \n",
       "1                 1324771200                       'HipHop & R&B'   \n",
       "2                 1324771200                       'HipHop & R&B'   \n",
       "3                 1379376000                       'HipHop & R&B'   \n",
       "4                 1379376000                       'HipHop & R&B'   \n",
       "\n",
       "columns listener_prev_month_listening_time  \\\n",
       "0                              617270940.0   \n",
       "1                              617270940.0   \n",
       "2                              617270940.0   \n",
       "3                              112239180.0   \n",
       "4                              112239180.0   \n",
       "\n",
       "columns listener_prev_month_avg_daily_tracks_listened  \n",
       "0                                               22.5]  \n",
       "1                                               22.5]  \n",
       "2                                               22.5]  \n",
       "3                                               10.5]  \n",
       "4                                               10.5]  "
      ]
     },
     "execution_count": 221,
     "metadata": {},
     "output_type": "execute_result"
    }
   ],
   "source": [
    "df_values.head()"
   ]
  },
  {
   "cell_type": "markdown",
   "metadata": {},
   "source": [
    "### Cleaning the dataset"
   ]
  },
  {
   "cell_type": "code",
   "execution_count": 222,
   "metadata": {},
   "outputs": [],
   "source": [
    "# Square brackets\n",
    "df_values['ts'] = df_values['ts'].str[1:] # removing the first bracket\n",
    "df_values.iloc[:,-1] = df_values.iloc[:,-1].map(lambda x: str(x)[:-1])  # don't want to type the name of the last column. Removing the bracket"
   ]
  },
  {
   "cell_type": "code",
   "execution_count": 223,
   "metadata": {},
   "outputs": [],
   "source": [
    "# removing quotes\n",
    "for a in df_values.iloc[:,1:7].columns.tolist():\n",
    "    df_values[a] = df_values[a].astype(str).str.replace('\\'', '')\n",
    "\n",
    "for b in df_values[['listener_id','listener_top_genre_category_listened']].columns.tolist():\n",
    "    df_values[b] = df_values[b].astype(str).str.replace('\\'', '')    "
   ]
  },
  {
   "cell_type": "code",
   "execution_count": 224,
   "metadata": {},
   "outputs": [],
   "source": [
    "# unix timestamp to date\n",
    "df_values['ts'] = pd.to_datetime(df_values['ts'], unit='s')\n",
    "df_values['track_upload_date'] = pd.to_datetime(df_values['track_upload_date'], unit='s')\n",
    "df_values['listener_signup_date'] = pd.to_datetime(df_values['listener_signup_date'], unit='s')"
   ]
  },
  {
   "cell_type": "code",
   "execution_count": 225,
   "metadata": {},
   "outputs": [],
   "source": [
    "# Milliseconds to seconds for now\n",
    "df_values['track_duration'] = df_values['track_duration'].astype(float)/1000\n",
    "df_values['listen_duration'] = df_values['listen_duration'].astype(float)/1000"
   ]
  },
  {
   "cell_type": "code",
   "execution_count": 244,
   "metadata": {},
   "outputs": [],
   "source": [
    "\"\"\"The above approach won't work with listener_prev_month_listening_time because it has a non-numeric value for customers who are \n",
    "first month users. Here is a work-around\"\"\"\n",
    "\n",
    "df_values['listener_prev_month_listening_time'] = pd.to_numeric(df_values['listener_prev_month_listening_time'], errors='ignore')\n",
    "df_values['listener_prev_month_listening_time'].replace(to_replace=['None'], value=np.nan, inplace=True)\n",
    "df_values['listener_prev_month_listening_time'].fillna(0, inplace = True)\n",
    "df_values['listener_prev_month_listening_time'] = df_values['listener_prev_month_listening_time'].astype(float)/1000"
   ]
  },
  {
   "cell_type": "code",
   "execution_count": 247,
   "metadata": {},
   "outputs": [
    {
     "data": {
      "text/html": [
       "<div>\n",
       "<style scoped>\n",
       "    .dataframe tbody tr th:only-of-type {\n",
       "        vertical-align: middle;\n",
       "    }\n",
       "\n",
       "    .dataframe tbody tr th {\n",
       "        vertical-align: top;\n",
       "    }\n",
       "\n",
       "    .dataframe thead th {\n",
       "        text-align: right;\n",
       "    }\n",
       "</style>\n",
       "<table border=\"1\" class=\"dataframe\">\n",
       "  <thead>\n",
       "    <tr style=\"text-align: right;\">\n",
       "      <th>columns</th>\n",
       "      <th>ts</th>\n",
       "      <th>country_code</th>\n",
       "      <th>client_version</th>\n",
       "      <th>listening_context</th>\n",
       "      <th>recommender_algorithm_name</th>\n",
       "      <th>track_id</th>\n",
       "      <th>track_genre_category</th>\n",
       "      <th>track_upload_date</th>\n",
       "      <th>track_duration</th>\n",
       "      <th>listen_duration</th>\n",
       "      <th>listener_id</th>\n",
       "      <th>listener_signup_date</th>\n",
       "      <th>listener_top_genre_category_listened</th>\n",
       "      <th>listener_prev_month_listening_time</th>\n",
       "      <th>listener_prev_month_avg_daily_tracks_listened</th>\n",
       "    </tr>\n",
       "  </thead>\n",
       "  <tbody>\n",
       "  </tbody>\n",
       "</table>\n",
       "</div>"
      ],
      "text/plain": [
       "Empty DataFrame\n",
       "Columns: [ts, country_code, client_version, listening_context, recommender_algorithm_name, track_id, track_genre_category, track_upload_date, track_duration, listen_duration, listener_id, listener_signup_date, listener_top_genre_category_listened, listener_prev_month_listening_time, listener_prev_month_avg_daily_tracks_listened]\n",
       "Index: []"
      ]
     },
     "execution_count": 247,
     "metadata": {},
     "output_type": "execute_result"
    }
   ],
   "source": [
    "# let's check the NaN situation\n",
    "df_values[df_values.isnull().any(axis=1)]"
   ]
  },
  {
   "cell_type": "code",
   "execution_count": 248,
   "metadata": {},
   "outputs": [
    {
     "data": {
      "text/plain": [
       "columns\n",
       "ts                                               datetime64[ns]\n",
       "country_code                                             object\n",
       "client_version                                           object\n",
       "listening_context                                        object\n",
       "recommender_algorithm_name                               object\n",
       "track_id                                                 object\n",
       "track_genre_category                                     object\n",
       "track_upload_date                                datetime64[ns]\n",
       "track_duration                                          float64\n",
       "listen_duration                                         float64\n",
       "listener_id                                              object\n",
       "listener_signup_date                             datetime64[ns]\n",
       "listener_top_genre_category_listened                     object\n",
       "listener_prev_month_listening_time                      float64\n",
       "listener_prev_month_avg_daily_tracks_listened            object\n",
       "dtype: object"
      ]
     },
     "execution_count": 248,
     "metadata": {},
     "output_type": "execute_result"
    }
   ],
   "source": [
    "df_values.dtypes"
   ]
  },
  {
   "cell_type": "code",
   "execution_count": null,
   "metadata": {},
   "outputs": [],
   "source": [
    "# writing a .csv\n",
    "# df_values.to_csv(r'C:\\Users\\us61565\\Desktop\\Internal\\Kaggle\\df_values.csv', index=False)"
   ]
  },
  {
   "cell_type": "markdown",
   "metadata": {},
   "source": [
    "## Descriptive Analysis"
   ]
  },
  {
   "cell_type": "markdown",
   "metadata": {},
   "source": [
    "Seems it's much easier to take a first look using Tableau. "
   ]
  },
  {
   "cell_type": "markdown",
   "metadata": {},
   "source": [
    "First we need to define what a skipped track is:\n"
   ]
  },
  {
   "cell_type": "markdown",
   "metadata": {},
   "source": [
    "<img src=\"skip_track_def.jpg\">"
   ]
  },
  {
   "cell_type": "markdown",
   "metadata": {},
   "source": [
    "Let's see whether this metric has been changing over years:"
   ]
  },
  {
   "cell_type": "code",
   "execution_count": null,
   "metadata": {},
   "outputs": [],
   "source": []
  },
  {
   "cell_type": "markdown",
   "metadata": {},
   "source": [
    "Then we move to assessing how every dimension (or a feature) influences "
   ]
  },
  {
   "cell_type": "code",
   "execution_count": null,
   "metadata": {},
   "outputs": [],
   "source": [
    "# cleaning columns from brackets, quotes, etc.\n",
    "# df['result'] = df['result'].str.replace(r'\\D', '')\n",
    "# df_values['ts'] = df_values['ts'].str.replace(r'[','')\n",
    "# df_values['ts'] = df_values['ts'].str[1:] # removing the first bracket\n",
    "# df_values.iloc[:,-1] = df_values.iloc[:,-1].map(lambda x: str(x)[:-1])  # don't want to type the name of the last column. Removing the bracket\n",
    "# df_values['country_code'].apply(lambda s: s.str.replace('\\'', ''))\n",
    "# df_values['client_version'].apply(lambda s: s.str.replace('\\'', ''))\n",
    "# df_values['listening_context'].apply(lambda s: s.str.replace('\\'', ''))\n",
    "# df_values['listening_context'].apply(lambda s: s.str.replace('\\'', ''))\n",
    "# df_values['listening_context'].apply(lambda s: s.str.replace('\\'', ''))"
   ]
  },
  {
   "cell_type": "code",
   "execution_count": null,
   "metadata": {},
   "outputs": [],
   "source": [
    "# test['country_code'].apply(lambda s: s.str.replace('\\'', ''))\n",
    "# test['country_code'].astype(str).str.replace('\\'', '')"
   ]
  },
  {
   "cell_type": "code",
   "execution_count": null,
   "metadata": {},
   "outputs": [],
   "source": [
    "# removing brackets:\n",
    "# test['ts'] = test['ts'].str[1:]\n",
    "# test.iloc[:,-1] = test.iloc[:,-1].map(lambda x: str(x)[:-1])  # don't want to type the name of the last column. Removing the bracket\n",
    "\n",
    "\n",
    "# # removing quotes\n",
    "# for a in test.iloc[:,1:7].columns.tolist():\n",
    "#     test[a] = test[a].astype(str).str.replace('\\'', '')\n",
    "\n",
    "# for b in test[['listener_id','listener_top_genre_category_listened']].columns.tolist():\n",
    "#     test[b] = test[b].astype(str).str.replace('\\'', '')    \n"
   ]
  },
  {
   "cell_type": "code",
   "execution_count": null,
   "metadata": {},
   "outputs": [],
   "source": [
    "# unix timestamp to date\n",
    "# test['ts'] = pd.to_datetime(test['ts'], unit='s')\n",
    "# test['track_upload_date'] = pd.to_datetime(test['track_upload_date'], unit='s')\n",
    "# test['listener_signup_date'] = pd.to_datetime(test['listener_signup_date'], unit='s')\n"
   ]
  },
  {
   "cell_type": "code",
   "execution_count": null,
   "metadata": {},
   "outputs": [],
   "source": [
    "# converting milliseconds to seconds for now\n",
    "# test['track_duration'] = test['track_duration'].astype(float)/1000\n",
    "# test['listen_duration'] = test['listen_duration'].astype(float)/1000\n",
    "# test['listener_prev_month_listening_time'] = test['listener_prev_month_listening_time'].astype(float)/1000"
   ]
  },
  {
   "cell_type": "code",
   "execution_count": null,
   "metadata": {},
   "outputs": [],
   "source": [
    "# test['listener_prev_month_listening_time'].astype(str).applymap(lambda x: isinstance(x, (int, float)))\n",
    "# test['listener_prev_month_listening_time'] = test['listener_prev_month_listening_time'].astype(str)"
   ]
  },
  {
   "cell_type": "code",
   "execution_count": null,
   "metadata": {},
   "outputs": [],
   "source": [
    "# test['listener_prev_month_listening_time'].astype(str).apply(lambda x: isinstance(x, (str)))"
   ]
  },
  {
   "cell_type": "code",
   "execution_count": null,
   "metadata": {},
   "outputs": [],
   "source": [
    "# test['listener_prev_month_listening_time']"
   ]
  },
  {
   "cell_type": "code",
   "execution_count": null,
   "metadata": {},
   "outputs": [],
   "source": [
    "# test.head()"
   ]
  },
  {
   "cell_type": "code",
   "execution_count": null,
   "metadata": {},
   "outputs": [],
   "source": [
    "# patterns= [r'\\D+'] # non integers\n",
    "# # for p in patterns:\n",
    "# #     match=  re.findall(p, test['listener_prev_month_listening_time'])\n",
    "# #     print(match)\n",
    "\n",
    "# # test['listener_prev_month_listening_time'].str.contains(patterns, regex=True)\n",
    "# # test['listener_prev_month_listening_time'] = df_values['listener_prev_month_listening_time']\n",
    "# test['listener_prev_month_listening_time'] = pd.to_numeric(test['listener_prev_month_listening_time'], errors='ignore')\n",
    "# test['listener_prev_month_listening_time'].fillna(0, inplace = True)\n",
    "# # test['listener_prev_month_listening_time'].apply(lambda x: any(pd.Series(x).str.contains(patterns)))"
   ]
  },
  {
   "cell_type": "code",
   "execution_count": null,
   "metadata": {},
   "outputs": [],
   "source": [
    "# test[test.isnull().any(axis=1)]"
   ]
  },
  {
   "cell_type": "code",
   "execution_count": null,
   "metadata": {},
   "outputs": [],
   "source": []
  }
 ],
 "metadata": {
  "kernelspec": {
   "display_name": "Python 3",
   "language": "python",
   "name": "python3"
  },
  "language_info": {
   "codemirror_mode": {
    "name": "ipython",
    "version": 3
   },
   "file_extension": ".py",
   "mimetype": "text/x-python",
   "name": "python",
   "nbconvert_exporter": "python",
   "pygments_lexer": "ipython3",
   "version": "3.7.1"
  }
 },
 "nbformat": 4,
 "nbformat_minor": 2
}
