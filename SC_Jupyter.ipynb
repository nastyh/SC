{
 "cells": [
  {
   "cell_type": "markdown",
   "metadata": {},
   "source": [
    "All provided files should be in the same folder."
   ]
  },
  {
   "cell_type": "markdown",
   "metadata": {},
   "source": [
    "### Load packages"
   ]
  },
  {
   "cell_type": "code",
   "execution_count": 204,
   "metadata": {},
   "outputs": [],
   "source": [
    "import pandas as pd\n",
    "import numpy as np\n",
    "import matplotlib\n",
    "import matplotlib.pyplot as plt\n",
    "import scipy.stats as st\n",
    "import seaborn as sns\n",
    "import pandas_profiling\n",
    "import datetime\n",
    "%matplotlib inline\n",
    "from io import StringIO\n",
    "import os\n",
    "import json\n",
    "import re"
   ]
  },
  {
   "cell_type": "markdown",
   "metadata": {},
   "source": [
    "### Load the file"
   ]
  },
  {
   "cell_type": "code",
   "execution_count": 205,
   "metadata": {},
   "outputs": [],
   "source": [
    "# we can deal with it just in the memory. Alternatively I pushed it through Databricks and uploaded the final table into a Postgresql database. \n",
    "os.chdir(r'C:\\Users\\us61565\\Desktop\\Internal\\Kaggle') # use the right address here\n",
    "\n",
    "# Reading the json as a dict\n",
    "with open('sc_data_science_challenge.json') as json_data:\n",
    "    data = json.load(json_data)"
   ]
  },
  {
   "cell_type": "code",
   "execution_count": null,
   "metadata": {},
   "outputs": [],
   "source": [
    "data"
   ]
  },
  {
   "cell_type": "markdown",
   "metadata": {},
   "source": [
    "### Make a dataframe"
   ]
  },
  {
   "cell_type": "code",
   "execution_count": 207,
   "metadata": {},
   "outputs": [],
   "source": [
    "# Had to make everything of an equal length first \n",
    "def pad_dict_list(dict_list, padel):\n",
    "    lmax = 0\n",
    "    for lname in dict_list.keys():\n",
    "        lmax = max(lmax, len(dict_list[lname]))\n",
    "    for lname in dict_list.keys():\n",
    "        ll = len(dict_list[lname])\n",
    "        if  ll < lmax:\n",
    "            dict_list[lname] += [padel] * (lmax - ll)\n",
    "    return dict_list"
   ]
  },
  {
   "cell_type": "code",
   "execution_count": 208,
   "metadata": {},
   "outputs": [],
   "source": [
    "data1 = pad_dict_list(data, 1) # using the function from above"
   ]
  },
  {
   "cell_type": "code",
   "execution_count": 209,
   "metadata": {},
   "outputs": [],
   "source": [
    "df = pd.DataFrame.from_dict(data1).T"
   ]
  },
  {
   "cell_type": "code",
   "execution_count": 210,
   "metadata": {},
   "outputs": [
    {
     "data": {
      "text/plain": [
       "0                                                ts\n",
       "1                                      country_code\n",
       "2                                    client_version\n",
       "3                                 listening_context\n",
       "4                        recommender_algorithm_name\n",
       "5                                          track_id\n",
       "6                              track_genre_category\n",
       "7                                 track_upload_date\n",
       "8                                    track_duration\n",
       "9                                   listen_duration\n",
       "10                                      listener_id\n",
       "11                             listener_signup_date\n",
       "12             listener_top_genre_category_listened\n",
       "13               listener_prev_month_listening_time\n",
       "14    listener_prev_month_avg_daily_tracks_listened\n",
       "Name: columns, dtype: object"
      ]
     },
     "execution_count": 210,
     "metadata": {},
     "output_type": "execute_result"
    }
   ],
   "source": [
    "cols = df.T.iloc[0:15,1]  # saving columns' names\n",
    "cols"
   ]
  },
  {
   "cell_type": "code",
   "execution_count": 211,
   "metadata": {},
   "outputs": [],
   "source": [
    "cols_2_split = df.T.iloc[0:,0] # data to split"
   ]
  },
  {
   "cell_type": "code",
   "execution_count": 212,
   "metadata": {},
   "outputs": [],
   "source": [
    "# make sure seconds are good. Remove from the final\n",
    "original = cols_2_split.astype(str).str.split(', ', expand = True) "
   ]
  },
  {
   "cell_type": "code",
   "execution_count": 213,
   "metadata": {},
   "outputs": [],
   "source": [
    "# remove\n",
    "original.columns = cols"
   ]
  },
  {
   "cell_type": "code",
   "execution_count": 214,
   "metadata": {},
   "outputs": [
    {
     "data": {
      "text/html": [
       "<div>\n",
       "<style scoped>\n",
       "    .dataframe tbody tr th:only-of-type {\n",
       "        vertical-align: middle;\n",
       "    }\n",
       "\n",
       "    .dataframe tbody tr th {\n",
       "        vertical-align: top;\n",
       "    }\n",
       "\n",
       "    .dataframe thead th {\n",
       "        text-align: right;\n",
       "    }\n",
       "</style>\n",
       "<table border=\"1\" class=\"dataframe\">\n",
       "  <thead>\n",
       "    <tr style=\"text-align: right;\">\n",
       "      <th>columns</th>\n",
       "      <th>ts</th>\n",
       "      <th>country_code</th>\n",
       "      <th>client_version</th>\n",
       "      <th>listening_context</th>\n",
       "      <th>recommender_algorithm_name</th>\n",
       "      <th>track_id</th>\n",
       "      <th>track_genre_category</th>\n",
       "      <th>track_upload_date</th>\n",
       "      <th>track_duration</th>\n",
       "      <th>listen_duration</th>\n",
       "      <th>listener_id</th>\n",
       "      <th>listener_signup_date</th>\n",
       "      <th>listener_top_genre_category_listened</th>\n",
       "      <th>listener_prev_month_listening_time</th>\n",
       "      <th>listener_prev_month_avg_daily_tracks_listened</th>\n",
       "    </tr>\n",
       "  </thead>\n",
       "  <tbody>\n",
       "    <tr>\n",
       "      <th>0</th>\n",
       "      <td>[1467398683</td>\n",
       "      <td>'GB'</td>\n",
       "      <td>'204.0.20'</td>\n",
       "      <td>'tracks'</td>\n",
       "      <td>'content-based'</td>\n",
       "      <td>'b47911d0e80d1a8a959a2b726654bbfa'</td>\n",
       "      <td>'Dance &amp; Electronic'</td>\n",
       "      <td>1466640000</td>\n",
       "      <td>413933</td>\n",
       "      <td>413933</td>\n",
       "      <td>'0001d5755511cae40e5b32d83a3decce'</td>\n",
       "      <td>1324771200</td>\n",
       "      <td>'HipHop &amp; R&amp;B'</td>\n",
       "      <td>617270940.0</td>\n",
       "      <td>22.5]</td>\n",
       "    </tr>\n",
       "    <tr>\n",
       "      <th>1</th>\n",
       "      <td>[1467398924</td>\n",
       "      <td>'GB'</td>\n",
       "      <td>'204.0.20'</td>\n",
       "      <td>'tracks'</td>\n",
       "      <td>'content-based'</td>\n",
       "      <td>'1f5e4bc82ba7fc802f780870f9b69191'</td>\n",
       "      <td>'HipHop &amp; R&amp;B'</td>\n",
       "      <td>1466726400</td>\n",
       "      <td>402640</td>\n",
       "      <td>110722</td>\n",
       "      <td>'0001d5755511cae40e5b32d83a3decce'</td>\n",
       "      <td>1324771200</td>\n",
       "      <td>'HipHop &amp; R&amp;B'</td>\n",
       "      <td>617270940.0</td>\n",
       "      <td>22.5]</td>\n",
       "    </tr>\n",
       "    <tr>\n",
       "      <th>2</th>\n",
       "      <td>[1467820636</td>\n",
       "      <td>'GB'</td>\n",
       "      <td>'204.0.20'</td>\n",
       "      <td>'users'</td>\n",
       "      <td>'content-based'</td>\n",
       "      <td>'092495283958e5d00f61cf2afe970d83'</td>\n",
       "      <td>'Pop'</td>\n",
       "      <td>1467072000</td>\n",
       "      <td>494811</td>\n",
       "      <td>193818</td>\n",
       "      <td>'0001d5755511cae40e5b32d83a3decce'</td>\n",
       "      <td>1324771200</td>\n",
       "      <td>'HipHop &amp; R&amp;B'</td>\n",
       "      <td>617270940.0</td>\n",
       "      <td>22.5]</td>\n",
       "    </tr>\n",
       "    <tr>\n",
       "      <th>3</th>\n",
       "      <td>[1467401951</td>\n",
       "      <td>'US'</td>\n",
       "      <td>'36.0.8'</td>\n",
       "      <td>'collection'</td>\n",
       "      <td>'content-based'</td>\n",
       "      <td>'211cd7be59941679f5ea847879b3b19b'</td>\n",
       "      <td>'HipHop &amp; R&amp;B'</td>\n",
       "      <td>1402272000</td>\n",
       "      <td>361585</td>\n",
       "      <td>361585</td>\n",
       "      <td>'000264c5b34ad04999535c8b6a8b86e2'</td>\n",
       "      <td>1379376000</td>\n",
       "      <td>'HipHop &amp; R&amp;B'</td>\n",
       "      <td>112239180.0</td>\n",
       "      <td>10.5]</td>\n",
       "    </tr>\n",
       "    <tr>\n",
       "      <th>4</th>\n",
       "      <td>[1467402159</td>\n",
       "      <td>'US'</td>\n",
       "      <td>'36.0.8'</td>\n",
       "      <td>'collection'</td>\n",
       "      <td>'content-based'</td>\n",
       "      <td>'0e7ca1a7524aba84473540fa0d0ec75f'</td>\n",
       "      <td>'Pop'</td>\n",
       "      <td>1448668800</td>\n",
       "      <td>373700</td>\n",
       "      <td>160162</td>\n",
       "      <td>'000264c5b34ad04999535c8b6a8b86e2'</td>\n",
       "      <td>1379376000</td>\n",
       "      <td>'HipHop &amp; R&amp;B'</td>\n",
       "      <td>112239180.0</td>\n",
       "      <td>10.5]</td>\n",
       "    </tr>\n",
       "  </tbody>\n",
       "</table>\n",
       "</div>"
      ],
      "text/plain": [
       "columns           ts country_code client_version listening_context  \\\n",
       "0        [1467398683         'GB'     '204.0.20'          'tracks'   \n",
       "1        [1467398924         'GB'     '204.0.20'          'tracks'   \n",
       "2        [1467820636         'GB'     '204.0.20'           'users'   \n",
       "3        [1467401951         'US'       '36.0.8'      'collection'   \n",
       "4        [1467402159         'US'       '36.0.8'      'collection'   \n",
       "\n",
       "columns recommender_algorithm_name                            track_id  \\\n",
       "0                  'content-based'  'b47911d0e80d1a8a959a2b726654bbfa'   \n",
       "1                  'content-based'  '1f5e4bc82ba7fc802f780870f9b69191'   \n",
       "2                  'content-based'  '092495283958e5d00f61cf2afe970d83'   \n",
       "3                  'content-based'  '211cd7be59941679f5ea847879b3b19b'   \n",
       "4                  'content-based'  '0e7ca1a7524aba84473540fa0d0ec75f'   \n",
       "\n",
       "columns  track_genre_category track_upload_date track_duration  \\\n",
       "0        'Dance & Electronic'        1466640000         413933   \n",
       "1              'HipHop & R&B'        1466726400         402640   \n",
       "2                       'Pop'        1467072000         494811   \n",
       "3              'HipHop & R&B'        1402272000         361585   \n",
       "4                       'Pop'        1448668800         373700   \n",
       "\n",
       "columns listen_duration                         listener_id  \\\n",
       "0                413933  '0001d5755511cae40e5b32d83a3decce'   \n",
       "1                110722  '0001d5755511cae40e5b32d83a3decce'   \n",
       "2                193818  '0001d5755511cae40e5b32d83a3decce'   \n",
       "3                361585  '000264c5b34ad04999535c8b6a8b86e2'   \n",
       "4                160162  '000264c5b34ad04999535c8b6a8b86e2'   \n",
       "\n",
       "columns listener_signup_date listener_top_genre_category_listened  \\\n",
       "0                 1324771200                       'HipHop & R&B'   \n",
       "1                 1324771200                       'HipHop & R&B'   \n",
       "2                 1324771200                       'HipHop & R&B'   \n",
       "3                 1379376000                       'HipHop & R&B'   \n",
       "4                 1379376000                       'HipHop & R&B'   \n",
       "\n",
       "columns listener_prev_month_listening_time  \\\n",
       "0                              617270940.0   \n",
       "1                              617270940.0   \n",
       "2                              617270940.0   \n",
       "3                              112239180.0   \n",
       "4                              112239180.0   \n",
       "\n",
       "columns listener_prev_month_avg_daily_tracks_listened  \n",
       "0                                               22.5]  \n",
       "1                                               22.5]  \n",
       "2                                               22.5]  \n",
       "3                                               10.5]  \n",
       "4                                               10.5]  "
      ]
     },
     "execution_count": 214,
     "metadata": {},
     "output_type": "execute_result"
    }
   ],
   "source": [
    "# remove\n",
    "original.head()"
   ]
  },
  {
   "cell_type": "code",
   "execution_count": 215,
   "metadata": {},
   "outputs": [],
   "source": [
    "# remove\n",
    "# t1 = cols_2_split.astype(str).map(lambda x: x[0]).str.rsplit(', ').str"
   ]
  },
  {
   "cell_type": "code",
   "execution_count": 216,
   "metadata": {},
   "outputs": [],
   "source": [
    "df_values = cols_2_split.astype(str).str.split(', ', expand = True) "
   ]
  },
  {
   "cell_type": "code",
   "execution_count": 217,
   "metadata": {},
   "outputs": [],
   "source": [
    "# Giving names to columns\n",
    "df_values.columns = cols"
   ]
  },
  {
   "cell_type": "code",
   "execution_count": 218,
   "metadata": {},
   "outputs": [
    {
     "data": {
      "text/html": [
       "<div>\n",
       "<style scoped>\n",
       "    .dataframe tbody tr th:only-of-type {\n",
       "        vertical-align: middle;\n",
       "    }\n",
       "\n",
       "    .dataframe tbody tr th {\n",
       "        vertical-align: top;\n",
       "    }\n",
       "\n",
       "    .dataframe thead th {\n",
       "        text-align: right;\n",
       "    }\n",
       "</style>\n",
       "<table border=\"1\" class=\"dataframe\">\n",
       "  <thead>\n",
       "    <tr style=\"text-align: right;\">\n",
       "      <th>columns</th>\n",
       "      <th>ts</th>\n",
       "      <th>country_code</th>\n",
       "      <th>client_version</th>\n",
       "      <th>listening_context</th>\n",
       "      <th>recommender_algorithm_name</th>\n",
       "      <th>track_id</th>\n",
       "      <th>track_genre_category</th>\n",
       "      <th>track_upload_date</th>\n",
       "      <th>track_duration</th>\n",
       "      <th>listen_duration</th>\n",
       "      <th>listener_id</th>\n",
       "      <th>listener_signup_date</th>\n",
       "      <th>listener_top_genre_category_listened</th>\n",
       "      <th>listener_prev_month_listening_time</th>\n",
       "      <th>listener_prev_month_avg_daily_tracks_listened</th>\n",
       "    </tr>\n",
       "  </thead>\n",
       "  <tbody>\n",
       "    <tr>\n",
       "      <th>0</th>\n",
       "      <td>[1467398683</td>\n",
       "      <td>'GB'</td>\n",
       "      <td>'204.0.20'</td>\n",
       "      <td>'tracks'</td>\n",
       "      <td>'content-based'</td>\n",
       "      <td>'b47911d0e80d1a8a959a2b726654bbfa'</td>\n",
       "      <td>'Dance &amp; Electronic'</td>\n",
       "      <td>1466640000</td>\n",
       "      <td>413933</td>\n",
       "      <td>413933</td>\n",
       "      <td>'0001d5755511cae40e5b32d83a3decce'</td>\n",
       "      <td>1324771200</td>\n",
       "      <td>'HipHop &amp; R&amp;B'</td>\n",
       "      <td>617270940.0</td>\n",
       "      <td>22.5]</td>\n",
       "    </tr>\n",
       "    <tr>\n",
       "      <th>1</th>\n",
       "      <td>[1467398924</td>\n",
       "      <td>'GB'</td>\n",
       "      <td>'204.0.20'</td>\n",
       "      <td>'tracks'</td>\n",
       "      <td>'content-based'</td>\n",
       "      <td>'1f5e4bc82ba7fc802f780870f9b69191'</td>\n",
       "      <td>'HipHop &amp; R&amp;B'</td>\n",
       "      <td>1466726400</td>\n",
       "      <td>402640</td>\n",
       "      <td>110722</td>\n",
       "      <td>'0001d5755511cae40e5b32d83a3decce'</td>\n",
       "      <td>1324771200</td>\n",
       "      <td>'HipHop &amp; R&amp;B'</td>\n",
       "      <td>617270940.0</td>\n",
       "      <td>22.5]</td>\n",
       "    </tr>\n",
       "    <tr>\n",
       "      <th>2</th>\n",
       "      <td>[1467820636</td>\n",
       "      <td>'GB'</td>\n",
       "      <td>'204.0.20'</td>\n",
       "      <td>'users'</td>\n",
       "      <td>'content-based'</td>\n",
       "      <td>'092495283958e5d00f61cf2afe970d83'</td>\n",
       "      <td>'Pop'</td>\n",
       "      <td>1467072000</td>\n",
       "      <td>494811</td>\n",
       "      <td>193818</td>\n",
       "      <td>'0001d5755511cae40e5b32d83a3decce'</td>\n",
       "      <td>1324771200</td>\n",
       "      <td>'HipHop &amp; R&amp;B'</td>\n",
       "      <td>617270940.0</td>\n",
       "      <td>22.5]</td>\n",
       "    </tr>\n",
       "    <tr>\n",
       "      <th>3</th>\n",
       "      <td>[1467401951</td>\n",
       "      <td>'US'</td>\n",
       "      <td>'36.0.8'</td>\n",
       "      <td>'collection'</td>\n",
       "      <td>'content-based'</td>\n",
       "      <td>'211cd7be59941679f5ea847879b3b19b'</td>\n",
       "      <td>'HipHop &amp; R&amp;B'</td>\n",
       "      <td>1402272000</td>\n",
       "      <td>361585</td>\n",
       "      <td>361585</td>\n",
       "      <td>'000264c5b34ad04999535c8b6a8b86e2'</td>\n",
       "      <td>1379376000</td>\n",
       "      <td>'HipHop &amp; R&amp;B'</td>\n",
       "      <td>112239180.0</td>\n",
       "      <td>10.5]</td>\n",
       "    </tr>\n",
       "    <tr>\n",
       "      <th>4</th>\n",
       "      <td>[1467402159</td>\n",
       "      <td>'US'</td>\n",
       "      <td>'36.0.8'</td>\n",
       "      <td>'collection'</td>\n",
       "      <td>'content-based'</td>\n",
       "      <td>'0e7ca1a7524aba84473540fa0d0ec75f'</td>\n",
       "      <td>'Pop'</td>\n",
       "      <td>1448668800</td>\n",
       "      <td>373700</td>\n",
       "      <td>160162</td>\n",
       "      <td>'000264c5b34ad04999535c8b6a8b86e2'</td>\n",
       "      <td>1379376000</td>\n",
       "      <td>'HipHop &amp; R&amp;B'</td>\n",
       "      <td>112239180.0</td>\n",
       "      <td>10.5]</td>\n",
       "    </tr>\n",
       "  </tbody>\n",
       "</table>\n",
       "</div>"
      ],
      "text/plain": [
       "columns           ts country_code client_version listening_context  \\\n",
       "0        [1467398683         'GB'     '204.0.20'          'tracks'   \n",
       "1        [1467398924         'GB'     '204.0.20'          'tracks'   \n",
       "2        [1467820636         'GB'     '204.0.20'           'users'   \n",
       "3        [1467401951         'US'       '36.0.8'      'collection'   \n",
       "4        [1467402159         'US'       '36.0.8'      'collection'   \n",
       "\n",
       "columns recommender_algorithm_name                            track_id  \\\n",
       "0                  'content-based'  'b47911d0e80d1a8a959a2b726654bbfa'   \n",
       "1                  'content-based'  '1f5e4bc82ba7fc802f780870f9b69191'   \n",
       "2                  'content-based'  '092495283958e5d00f61cf2afe970d83'   \n",
       "3                  'content-based'  '211cd7be59941679f5ea847879b3b19b'   \n",
       "4                  'content-based'  '0e7ca1a7524aba84473540fa0d0ec75f'   \n",
       "\n",
       "columns  track_genre_category track_upload_date track_duration  \\\n",
       "0        'Dance & Electronic'        1466640000         413933   \n",
       "1              'HipHop & R&B'        1466726400         402640   \n",
       "2                       'Pop'        1467072000         494811   \n",
       "3              'HipHop & R&B'        1402272000         361585   \n",
       "4                       'Pop'        1448668800         373700   \n",
       "\n",
       "columns listen_duration                         listener_id  \\\n",
       "0                413933  '0001d5755511cae40e5b32d83a3decce'   \n",
       "1                110722  '0001d5755511cae40e5b32d83a3decce'   \n",
       "2                193818  '0001d5755511cae40e5b32d83a3decce'   \n",
       "3                361585  '000264c5b34ad04999535c8b6a8b86e2'   \n",
       "4                160162  '000264c5b34ad04999535c8b6a8b86e2'   \n",
       "\n",
       "columns listener_signup_date listener_top_genre_category_listened  \\\n",
       "0                 1324771200                       'HipHop & R&B'   \n",
       "1                 1324771200                       'HipHop & R&B'   \n",
       "2                 1324771200                       'HipHop & R&B'   \n",
       "3                 1379376000                       'HipHop & R&B'   \n",
       "4                 1379376000                       'HipHop & R&B'   \n",
       "\n",
       "columns listener_prev_month_listening_time  \\\n",
       "0                              617270940.0   \n",
       "1                              617270940.0   \n",
       "2                              617270940.0   \n",
       "3                              112239180.0   \n",
       "4                              112239180.0   \n",
       "\n",
       "columns listener_prev_month_avg_daily_tracks_listened  \n",
       "0                                               22.5]  \n",
       "1                                               22.5]  \n",
       "2                                               22.5]  \n",
       "3                                               10.5]  \n",
       "4                                               10.5]  "
      ]
     },
     "execution_count": 218,
     "metadata": {},
     "output_type": "execute_result"
    }
   ],
   "source": [
    "df_values.head()"
   ]
  },
  {
   "cell_type": "code",
   "execution_count": 219,
   "metadata": {},
   "outputs": [],
   "source": [
    "# test = df_values"
   ]
  },
  {
   "cell_type": "code",
   "execution_count": 220,
   "metadata": {},
   "outputs": [],
   "source": [
    "# test.head()"
   ]
  },
  {
   "cell_type": "code",
   "execution_count": 221,
   "metadata": {},
   "outputs": [
    {
     "data": {
      "text/html": [
       "<div>\n",
       "<style scoped>\n",
       "    .dataframe tbody tr th:only-of-type {\n",
       "        vertical-align: middle;\n",
       "    }\n",
       "\n",
       "    .dataframe tbody tr th {\n",
       "        vertical-align: top;\n",
       "    }\n",
       "\n",
       "    .dataframe thead th {\n",
       "        text-align: right;\n",
       "    }\n",
       "</style>\n",
       "<table border=\"1\" class=\"dataframe\">\n",
       "  <thead>\n",
       "    <tr style=\"text-align: right;\">\n",
       "      <th>columns</th>\n",
       "      <th>ts</th>\n",
       "      <th>country_code</th>\n",
       "      <th>client_version</th>\n",
       "      <th>listening_context</th>\n",
       "      <th>recommender_algorithm_name</th>\n",
       "      <th>track_id</th>\n",
       "      <th>track_genre_category</th>\n",
       "      <th>track_upload_date</th>\n",
       "      <th>track_duration</th>\n",
       "      <th>listen_duration</th>\n",
       "      <th>listener_id</th>\n",
       "      <th>listener_signup_date</th>\n",
       "      <th>listener_top_genre_category_listened</th>\n",
       "      <th>listener_prev_month_listening_time</th>\n",
       "      <th>listener_prev_month_avg_daily_tracks_listened</th>\n",
       "    </tr>\n",
       "  </thead>\n",
       "  <tbody>\n",
       "    <tr>\n",
       "      <th>0</th>\n",
       "      <td>[1467398683</td>\n",
       "      <td>'GB'</td>\n",
       "      <td>'204.0.20'</td>\n",
       "      <td>'tracks'</td>\n",
       "      <td>'content-based'</td>\n",
       "      <td>'b47911d0e80d1a8a959a2b726654bbfa'</td>\n",
       "      <td>'Dance &amp; Electronic'</td>\n",
       "      <td>1466640000</td>\n",
       "      <td>413933</td>\n",
       "      <td>413933</td>\n",
       "      <td>'0001d5755511cae40e5b32d83a3decce'</td>\n",
       "      <td>1324771200</td>\n",
       "      <td>'HipHop &amp; R&amp;B'</td>\n",
       "      <td>617270940.0</td>\n",
       "      <td>22.5]</td>\n",
       "    </tr>\n",
       "    <tr>\n",
       "      <th>1</th>\n",
       "      <td>[1467398924</td>\n",
       "      <td>'GB'</td>\n",
       "      <td>'204.0.20'</td>\n",
       "      <td>'tracks'</td>\n",
       "      <td>'content-based'</td>\n",
       "      <td>'1f5e4bc82ba7fc802f780870f9b69191'</td>\n",
       "      <td>'HipHop &amp; R&amp;B'</td>\n",
       "      <td>1466726400</td>\n",
       "      <td>402640</td>\n",
       "      <td>110722</td>\n",
       "      <td>'0001d5755511cae40e5b32d83a3decce'</td>\n",
       "      <td>1324771200</td>\n",
       "      <td>'HipHop &amp; R&amp;B'</td>\n",
       "      <td>617270940.0</td>\n",
       "      <td>22.5]</td>\n",
       "    </tr>\n",
       "    <tr>\n",
       "      <th>2</th>\n",
       "      <td>[1467820636</td>\n",
       "      <td>'GB'</td>\n",
       "      <td>'204.0.20'</td>\n",
       "      <td>'users'</td>\n",
       "      <td>'content-based'</td>\n",
       "      <td>'092495283958e5d00f61cf2afe970d83'</td>\n",
       "      <td>'Pop'</td>\n",
       "      <td>1467072000</td>\n",
       "      <td>494811</td>\n",
       "      <td>193818</td>\n",
       "      <td>'0001d5755511cae40e5b32d83a3decce'</td>\n",
       "      <td>1324771200</td>\n",
       "      <td>'HipHop &amp; R&amp;B'</td>\n",
       "      <td>617270940.0</td>\n",
       "      <td>22.5]</td>\n",
       "    </tr>\n",
       "    <tr>\n",
       "      <th>3</th>\n",
       "      <td>[1467401951</td>\n",
       "      <td>'US'</td>\n",
       "      <td>'36.0.8'</td>\n",
       "      <td>'collection'</td>\n",
       "      <td>'content-based'</td>\n",
       "      <td>'211cd7be59941679f5ea847879b3b19b'</td>\n",
       "      <td>'HipHop &amp; R&amp;B'</td>\n",
       "      <td>1402272000</td>\n",
       "      <td>361585</td>\n",
       "      <td>361585</td>\n",
       "      <td>'000264c5b34ad04999535c8b6a8b86e2'</td>\n",
       "      <td>1379376000</td>\n",
       "      <td>'HipHop &amp; R&amp;B'</td>\n",
       "      <td>112239180.0</td>\n",
       "      <td>10.5]</td>\n",
       "    </tr>\n",
       "    <tr>\n",
       "      <th>4</th>\n",
       "      <td>[1467402159</td>\n",
       "      <td>'US'</td>\n",
       "      <td>'36.0.8'</td>\n",
       "      <td>'collection'</td>\n",
       "      <td>'content-based'</td>\n",
       "      <td>'0e7ca1a7524aba84473540fa0d0ec75f'</td>\n",
       "      <td>'Pop'</td>\n",
       "      <td>1448668800</td>\n",
       "      <td>373700</td>\n",
       "      <td>160162</td>\n",
       "      <td>'000264c5b34ad04999535c8b6a8b86e2'</td>\n",
       "      <td>1379376000</td>\n",
       "      <td>'HipHop &amp; R&amp;B'</td>\n",
       "      <td>112239180.0</td>\n",
       "      <td>10.5]</td>\n",
       "    </tr>\n",
       "  </tbody>\n",
       "</table>\n",
       "</div>"
      ],
      "text/plain": [
       "columns           ts country_code client_version listening_context  \\\n",
       "0        [1467398683         'GB'     '204.0.20'          'tracks'   \n",
       "1        [1467398924         'GB'     '204.0.20'          'tracks'   \n",
       "2        [1467820636         'GB'     '204.0.20'           'users'   \n",
       "3        [1467401951         'US'       '36.0.8'      'collection'   \n",
       "4        [1467402159         'US'       '36.0.8'      'collection'   \n",
       "\n",
       "columns recommender_algorithm_name                            track_id  \\\n",
       "0                  'content-based'  'b47911d0e80d1a8a959a2b726654bbfa'   \n",
       "1                  'content-based'  '1f5e4bc82ba7fc802f780870f9b69191'   \n",
       "2                  'content-based'  '092495283958e5d00f61cf2afe970d83'   \n",
       "3                  'content-based'  '211cd7be59941679f5ea847879b3b19b'   \n",
       "4                  'content-based'  '0e7ca1a7524aba84473540fa0d0ec75f'   \n",
       "\n",
       "columns  track_genre_category track_upload_date track_duration  \\\n",
       "0        'Dance & Electronic'        1466640000         413933   \n",
       "1              'HipHop & R&B'        1466726400         402640   \n",
       "2                       'Pop'        1467072000         494811   \n",
       "3              'HipHop & R&B'        1402272000         361585   \n",
       "4                       'Pop'        1448668800         373700   \n",
       "\n",
       "columns listen_duration                         listener_id  \\\n",
       "0                413933  '0001d5755511cae40e5b32d83a3decce'   \n",
       "1                110722  '0001d5755511cae40e5b32d83a3decce'   \n",
       "2                193818  '0001d5755511cae40e5b32d83a3decce'   \n",
       "3                361585  '000264c5b34ad04999535c8b6a8b86e2'   \n",
       "4                160162  '000264c5b34ad04999535c8b6a8b86e2'   \n",
       "\n",
       "columns listener_signup_date listener_top_genre_category_listened  \\\n",
       "0                 1324771200                       'HipHop & R&B'   \n",
       "1                 1324771200                       'HipHop & R&B'   \n",
       "2                 1324771200                       'HipHop & R&B'   \n",
       "3                 1379376000                       'HipHop & R&B'   \n",
       "4                 1379376000                       'HipHop & R&B'   \n",
       "\n",
       "columns listener_prev_month_listening_time  \\\n",
       "0                              617270940.0   \n",
       "1                              617270940.0   \n",
       "2                              617270940.0   \n",
       "3                              112239180.0   \n",
       "4                              112239180.0   \n",
       "\n",
       "columns listener_prev_month_avg_daily_tracks_listened  \n",
       "0                                               22.5]  \n",
       "1                                               22.5]  \n",
       "2                                               22.5]  \n",
       "3                                               10.5]  \n",
       "4                                               10.5]  "
      ]
     },
     "execution_count": 221,
     "metadata": {},
     "output_type": "execute_result"
    }
   ],
   "source": [
    "df_values.head()"
   ]
  },
  {
   "cell_type": "markdown",
   "metadata": {},
   "source": [
    "### Cleaning the dataset"
   ]
  },
  {
   "cell_type": "code",
   "execution_count": 222,
   "metadata": {},
   "outputs": [],
   "source": [
    "# Square brackets\n",
    "df_values['ts'] = df_values['ts'].str[1:] # removing the first bracket\n",
    "df_values.iloc[:,-1] = df_values.iloc[:,-1].map(lambda x: str(x)[:-1])  # don't want to type the name of the last column. Removing the bracket"
   ]
  },
  {
   "cell_type": "code",
   "execution_count": 223,
   "metadata": {},
   "outputs": [],
   "source": [
    "# removing quotes\n",
    "for a in df_values.iloc[:,1:7].columns.tolist():\n",
    "    df_values[a] = df_values[a].astype(str).str.replace('\\'', '')\n",
    "\n",
    "for b in df_values[['listener_id','listener_top_genre_category_listened']].columns.tolist():\n",
    "    df_values[b] = df_values[b].astype(str).str.replace('\\'', '')    "
   ]
  },
  {
   "cell_type": "code",
   "execution_count": 224,
   "metadata": {},
   "outputs": [],
   "source": [
    "# unix timestamp to date\n",
    "df_values['ts'] = pd.to_datetime(df_values['ts'], unit='s')\n",
    "df_values['track_upload_date'] = pd.to_datetime(df_values['track_upload_date'], unit='s')\n",
    "df_values['listener_signup_date'] = pd.to_datetime(df_values['listener_signup_date'], unit='s')"
   ]
  },
  {
   "cell_type": "code",
   "execution_count": 225,
   "metadata": {},
   "outputs": [],
   "source": [
    "# Milliseconds to seconds for now\n",
    "df_values['track_duration'] = df_values['track_duration'].astype(float)/1000\n",
    "df_values['listen_duration'] = df_values['listen_duration'].astype(float)/1000"
   ]
  },
  {
   "cell_type": "code",
   "execution_count": 244,
   "metadata": {},
   "outputs": [],
   "source": [
    "\"\"\"The above approach won't work with listener_prev_month_listening_time because it has a non-numeric value for customers who are \n",
    "first month users. Here is a work-around\"\"\"\n",
    "\n",
    "df_values['listener_prev_month_listening_time'] = pd.to_numeric(df_values['listener_prev_month_listening_time'], errors='ignore')\n",
    "df_values['listener_prev_month_listening_time'].replace(to_replace=['None'], value=np.nan, inplace=True)\n",
    "df_values['listener_prev_month_listening_time'].fillna(0, inplace = True)\n",
    "df_values['listener_prev_month_listening_time'] = df_values['listener_prev_month_listening_time'].astype(float)/1000"
   ]
  },
  {
   "cell_type": "code",
   "execution_count": 247,
   "metadata": {},
   "outputs": [
    {
     "data": {
      "text/html": [
       "<div>\n",
       "<style scoped>\n",
       "    .dataframe tbody tr th:only-of-type {\n",
       "        vertical-align: middle;\n",
       "    }\n",
       "\n",
       "    .dataframe tbody tr th {\n",
       "        vertical-align: top;\n",
       "    }\n",
       "\n",
       "    .dataframe thead th {\n",
       "        text-align: right;\n",
       "    }\n",
       "</style>\n",
       "<table border=\"1\" class=\"dataframe\">\n",
       "  <thead>\n",
       "    <tr style=\"text-align: right;\">\n",
       "      <th>columns</th>\n",
       "      <th>ts</th>\n",
       "      <th>country_code</th>\n",
       "      <th>client_version</th>\n",
       "      <th>listening_context</th>\n",
       "      <th>recommender_algorithm_name</th>\n",
       "      <th>track_id</th>\n",
       "      <th>track_genre_category</th>\n",
       "      <th>track_upload_date</th>\n",
       "      <th>track_duration</th>\n",
       "      <th>listen_duration</th>\n",
       "      <th>listener_id</th>\n",
       "      <th>listener_signup_date</th>\n",
       "      <th>listener_top_genre_category_listened</th>\n",
       "      <th>listener_prev_month_listening_time</th>\n",
       "      <th>listener_prev_month_avg_daily_tracks_listened</th>\n",
       "    </tr>\n",
       "  </thead>\n",
       "  <tbody>\n",
       "  </tbody>\n",
       "</table>\n",
       "</div>"
      ],
      "text/plain": [
       "Empty DataFrame\n",
       "Columns: [ts, country_code, client_version, listening_context, recommender_algorithm_name, track_id, track_genre_category, track_upload_date, track_duration, listen_duration, listener_id, listener_signup_date, listener_top_genre_category_listened, listener_prev_month_listening_time, listener_prev_month_avg_daily_tracks_listened]\n",
       "Index: []"
      ]
     },
     "execution_count": 247,
     "metadata": {},
     "output_type": "execute_result"
    }
   ],
   "source": [
    "# let's check the NaN situation\n",
    "df_values[df_values.isnull().any(axis=1)]"
   ]
  },
  {
   "cell_type": "code",
   "execution_count": 248,
   "metadata": {},
   "outputs": [
    {
     "data": {
      "text/plain": [
       "columns\n",
       "ts                                               datetime64[ns]\n",
       "country_code                                             object\n",
       "client_version                                           object\n",
       "listening_context                                        object\n",
       "recommender_algorithm_name                               object\n",
       "track_id                                                 object\n",
       "track_genre_category                                     object\n",
       "track_upload_date                                datetime64[ns]\n",
       "track_duration                                          float64\n",
       "listen_duration                                         float64\n",
       "listener_id                                              object\n",
       "listener_signup_date                             datetime64[ns]\n",
       "listener_top_genre_category_listened                     object\n",
       "listener_prev_month_listening_time                      float64\n",
       "listener_prev_month_avg_daily_tracks_listened            object\n",
       "dtype: object"
      ]
     },
     "execution_count": 248,
     "metadata": {},
     "output_type": "execute_result"
    }
   ],
   "source": [
    "df_values.dtypes"
   ]
  },
  {
   "cell_type": "code",
   "execution_count": null,
   "metadata": {},
   "outputs": [],
   "source": [
    "# writing a .csv\n",
    "# df_values.to_csv(r'C:\\Users\\us61565\\Desktop\\Internal\\Kaggle\\df_values.csv', index=False)"
   ]
  },
  {
   "cell_type": "markdown",
   "metadata": {},
   "source": [
    "## Descriptive Analysis"
   ]
  },
  {
   "cell_type": "markdown",
   "metadata": {},
   "source": [
    "Seems it's much easier to take a first look using Tableau b/c of numerous small things that can be handled by using Fixed in Tableau but require way more work in Python. "
   ]
  },
  {
   "cell_type": "markdown",
   "metadata": {},
   "source": [
    "First we need to define what a skipped track is. We need to fix Track Id b/c the same track can be listened by different users and more than once. If we just take the difference all ratios will go > 100%\n"
   ]
  },
  {
   "cell_type": "code",
   "execution_count": null,
   "metadata": {},
   "outputs": [],
   "source": []
  },
  {
   "cell_type": "markdown",
   "metadata": {},
   "source": [
    "<img src=\"skip_track_def.jpg\">"
   ]
  },
  {
   "cell_type": "markdown",
   "metadata": {},
   "source": [
    "Let's see whether 'old' and 'new' users are different:"
   ]
  },
  {
   "cell_type": "markdown",
   "metadata": {},
   "source": [
    "<img src = \"skipped_by_year.jpg\">"
   ]
  },
  {
   "cell_type": "markdown",
   "metadata": {},
   "source": [
    "It's been fairly steady. But are they all active?\n",
    "To understand that, we can \n",
    "\n",
    "Maybe the user count and how much they listened deteriorated and led to a wash?"
   ]
  },
  {
   "cell_type": "code",
   "execution_count": null,
   "metadata": {},
   "outputs": [],
   "source": []
  },
  {
   "cell_type": "code",
   "execution_count": null,
   "metadata": {},
   "outputs": [],
   "source": []
  },
  {
   "cell_type": "code",
   "execution_count": null,
   "metadata": {},
   "outputs": [],
   "source": []
  },
  {
   "cell_type": "code",
   "execution_count": null,
   "metadata": {},
   "outputs": [],
   "source": []
  },
  {
   "cell_type": "code",
   "execution_count": null,
   "metadata": {},
   "outputs": [],
   "source": []
  },
  {
   "cell_type": "markdown",
   "metadata": {},
   "source": [
    "Then we move to assessing how every dimension (or a feature) influences "
   ]
  },
  {
   "cell_type": "markdown",
   "metadata": {},
   "source": [
    "Let's try find what features are more important. For this, we can use either a random forest or XgBoost.\n",
    "\n",
    "We want a dataset with columns: \n",
    "colnames = ['Country Code','Listener Id','listener_prev_month_avg_daily_tracks_listened','listening_context',\n",
    "         'recommender_algorithm_name','Skipped','track_genre_category','track_id','Last time minus track date','User Age']"
   ]
  },
  {
   "cell_type": "markdown",
   "metadata": {},
   "source": [
    "It requires a lot of groupby and merge: it's done below. \n",
    "But it was much faster to create the required dataset in Tableau, export to .mdb, export to .txt and clean up this .txt right here"
   ]
  },
  {
   "cell_type": "code",
   "execution_count": 310,
   "metadata": {},
   "outputs": [],
   "source": [
    "colnames = ['Country Code','Listener Id','listener_prev_month_avg_daily_tracks_listened','listening_context',\n",
    "         'recommender_algorithm_name','Skipped','track_genre_category','track_id','Last time minus track date','User Age']\n",
    "df_ml = pd.read_csv(r'C:\\Users\\us61565\\Desktop\\Internal\\Kaggle\\df_fr_access.txt', sep=\",\", names = colnames, header = None)\n"
   ]
  },
  {
   "cell_type": "code",
   "execution_count": 311,
   "metadata": {},
   "outputs": [
    {
     "data": {
      "text/html": [
       "<div>\n",
       "<style scoped>\n",
       "    .dataframe tbody tr th:only-of-type {\n",
       "        vertical-align: middle;\n",
       "    }\n",
       "\n",
       "    .dataframe tbody tr th {\n",
       "        vertical-align: top;\n",
       "    }\n",
       "\n",
       "    .dataframe thead th {\n",
       "        text-align: right;\n",
       "    }\n",
       "</style>\n",
       "<table border=\"1\" class=\"dataframe\">\n",
       "  <thead>\n",
       "    <tr style=\"text-align: right;\">\n",
       "      <th></th>\n",
       "      <th>Country Code</th>\n",
       "      <th>Listener Id</th>\n",
       "      <th>listener_prev_month_avg_daily_tracks_listened</th>\n",
       "      <th>listening_context</th>\n",
       "      <th>recommender_algorithm_name</th>\n",
       "      <th>Skipped</th>\n",
       "      <th>track_genre_category</th>\n",
       "      <th>track_id</th>\n",
       "      <th>Last time minus track date</th>\n",
       "      <th>User Age</th>\n",
       "    </tr>\n",
       "  </thead>\n",
       "  <tbody>\n",
       "    <tr>\n",
       "      <th>0</th>\n",
       "      <td>GB</td>\n",
       "      <td>8d00f3e09fc01a75ee11757a9550ffb8</td>\n",
       "      <td>48.0</td>\n",
       "      <td>tracks</td>\n",
       "      <td>content-based</td>\n",
       "      <td>Y</td>\n",
       "      <td>Dance &amp; Electronic</td>\n",
       "      <td>e7f4347b488b3a07dabdc32c9112221b</td>\n",
       "      <td>10</td>\n",
       "      <td>1952</td>\n",
       "    </tr>\n",
       "    <tr>\n",
       "      <th>1</th>\n",
       "      <td>US</td>\n",
       "      <td>8a2d931d2043eb42231370b6a0284c5d</td>\n",
       "      <td>18.0</td>\n",
       "      <td>tracks</td>\n",
       "      <td>collaborative</td>\n",
       "      <td>Y</td>\n",
       "      <td>Dance &amp; Electronic</td>\n",
       "      <td>df713955af938432329797285c7ef568</td>\n",
       "      <td>16</td>\n",
       "      <td>2404</td>\n",
       "    </tr>\n",
       "    <tr>\n",
       "      <th>2</th>\n",
       "      <td>US</td>\n",
       "      <td>1a96560c8aae04140ab4420c680eca8e</td>\n",
       "      <td>22.5</td>\n",
       "      <td>collection</td>\n",
       "      <td>content-based</td>\n",
       "      <td>Y</td>\n",
       "      <td>HipHop &amp; R&amp;B</td>\n",
       "      <td>d4a927f94729d381a232af5ae6c7a80c</td>\n",
       "      <td>0</td>\n",
       "      <td>490</td>\n",
       "    </tr>\n",
       "    <tr>\n",
       "      <th>3</th>\n",
       "      <td>US</td>\n",
       "      <td>56d3eae339afbdad6ef1801bed6d88cc</td>\n",
       "      <td>40.5</td>\n",
       "      <td>tracks</td>\n",
       "      <td>content-based</td>\n",
       "      <td>Y</td>\n",
       "      <td>Dance &amp; Electronic</td>\n",
       "      <td>cf4e58ef1e449ddb78fc6aab9cfbb2ea</td>\n",
       "      <td>0</td>\n",
       "      <td>908</td>\n",
       "    </tr>\n",
       "    <tr>\n",
       "      <th>4</th>\n",
       "      <td>GB</td>\n",
       "      <td>adaf4af6dc8befe484efb318fff6c40e</td>\n",
       "      <td>81.0</td>\n",
       "      <td>tracks</td>\n",
       "      <td>content-based</td>\n",
       "      <td>Y</td>\n",
       "      <td>Dance &amp; Electronic</td>\n",
       "      <td>ac1cb11e6b2b026d99d8f44959a030e5</td>\n",
       "      <td>8</td>\n",
       "      <td>315</td>\n",
       "    </tr>\n",
       "  </tbody>\n",
       "</table>\n",
       "</div>"
      ],
      "text/plain": [
       "  Country Code                       Listener Id  \\\n",
       "0           GB  8d00f3e09fc01a75ee11757a9550ffb8   \n",
       "1           US  8a2d931d2043eb42231370b6a0284c5d   \n",
       "2           US  1a96560c8aae04140ab4420c680eca8e   \n",
       "3           US  56d3eae339afbdad6ef1801bed6d88cc   \n",
       "4           GB  adaf4af6dc8befe484efb318fff6c40e   \n",
       "\n",
       "   listener_prev_month_avg_daily_tracks_listened listening_context  \\\n",
       "0                                           48.0            tracks   \n",
       "1                                           18.0            tracks   \n",
       "2                                           22.5        collection   \n",
       "3                                           40.5            tracks   \n",
       "4                                           81.0            tracks   \n",
       "\n",
       "  recommender_algorithm_name Skipped track_genre_category  \\\n",
       "0              content-based       Y   Dance & Electronic   \n",
       "1              collaborative       Y   Dance & Electronic   \n",
       "2              content-based       Y         HipHop & R&B   \n",
       "3              content-based       Y   Dance & Electronic   \n",
       "4              content-based       Y   Dance & Electronic   \n",
       "\n",
       "                           track_id  Last time minus track date  User Age  \n",
       "0  e7f4347b488b3a07dabdc32c9112221b                          10      1952  \n",
       "1  df713955af938432329797285c7ef568                          16      2404  \n",
       "2  d4a927f94729d381a232af5ae6c7a80c                           0       490  \n",
       "3  cf4e58ef1e449ddb78fc6aab9cfbb2ea                           0       908  \n",
       "4  ac1cb11e6b2b026d99d8f44959a030e5                           8       315  "
      ]
     },
     "execution_count": 311,
     "metadata": {},
     "output_type": "execute_result"
    }
   ],
   "source": [
    "df_ml.head()"
   ]
  },
  {
   "cell_type": "markdown",
   "metadata": {},
   "source": [
    "A few words about last time minus track date. It's calculated as such:"
   ]
  },
  {
   "cell_type": "markdown",
   "metadata": {},
   "source": [
    "<img src = \"last time minus track date.JPG\">"
   ]
  },
  {
   "cell_type": "markdown",
   "metadata": {},
   "source": [
    "Where one variable is given and another one is:"
   ]
  },
  {
   "cell_type": "markdown",
   "metadata": {},
   "source": [
    "<img src = \"last time user listened.jpg\">"
   ]
  },
  {
   "cell_type": "markdown",
   "metadata": {},
   "source": [
    "#### If you want to create new fields manually here:"
   ]
  },
  {
   "cell_type": "code",
   "execution_count": null,
   "metadata": {},
   "outputs": [],
   "source": [
    "df_values.head()"
   ]
  },
  {
   "cell_type": "code",
   "execution_count": null,
   "metadata": {},
   "outputs": [],
   "source": [
    "by_listener = df_values.groupby(['listener_id'])\n",
    "by_listener.first()"
   ]
  },
  {
   "cell_type": "code",
   "execution_count": 257,
   "metadata": {},
   "outputs": [],
   "source": [
    "# Users' time on the platform\n",
    "age = df_values.groupby('listener_id')['ts'].max() - df_values.groupby('listener_id')['listener_signup_date'].min()"
   ]
  },
  {
   "cell_type": "code",
   "execution_count": 260,
   "metadata": {},
   "outputs": [],
   "source": [
    "# adding this column\n",
    "result_w_age = df_values.merge(age.to_frame(), on='listener_id')"
   ]
  },
  {
   "cell_type": "code",
   "execution_count": 266,
   "metadata": {},
   "outputs": [
    {
     "data": {
      "text/html": [
       "<div>\n",
       "<style scoped>\n",
       "    .dataframe tbody tr th:only-of-type {\n",
       "        vertical-align: middle;\n",
       "    }\n",
       "\n",
       "    .dataframe tbody tr th {\n",
       "        vertical-align: top;\n",
       "    }\n",
       "\n",
       "    .dataframe thead th {\n",
       "        text-align: right;\n",
       "    }\n",
       "</style>\n",
       "<table border=\"1\" class=\"dataframe\">\n",
       "  <thead>\n",
       "    <tr style=\"text-align: right;\">\n",
       "      <th></th>\n",
       "      <th>ts</th>\n",
       "      <th>country_code</th>\n",
       "      <th>client_version</th>\n",
       "      <th>listening_context</th>\n",
       "      <th>recommender_algorithm_name</th>\n",
       "      <th>track_id</th>\n",
       "      <th>track_genre_category</th>\n",
       "      <th>track_upload_date</th>\n",
       "      <th>track_duration</th>\n",
       "      <th>listen_duration</th>\n",
       "      <th>listener_id</th>\n",
       "      <th>listener_signup_date</th>\n",
       "      <th>listener_top_genre_category_listened</th>\n",
       "      <th>listener_prev_month_listening_time</th>\n",
       "      <th>listener_prev_month_avg_daily_tracks_listened</th>\n",
       "      <th>listener_age</th>\n",
       "    </tr>\n",
       "  </thead>\n",
       "  <tbody>\n",
       "    <tr>\n",
       "      <th>0</th>\n",
       "      <td>2016-07-01 18:44:43</td>\n",
       "      <td>GB</td>\n",
       "      <td>204.0.20</td>\n",
       "      <td>tracks</td>\n",
       "      <td>content-based</td>\n",
       "      <td>b47911d0e80d1a8a959a2b726654bbfa</td>\n",
       "      <td>Dance &amp; Electronic</td>\n",
       "      <td>2016-06-23</td>\n",
       "      <td>413.933</td>\n",
       "      <td>413.933</td>\n",
       "      <td>0001d5755511cae40e5b32d83a3decce</td>\n",
       "      <td>2011-12-25</td>\n",
       "      <td>HipHop &amp; R&amp;B</td>\n",
       "      <td>617270.94</td>\n",
       "      <td>22.5</td>\n",
       "      <td>1655 days 15:57:16</td>\n",
       "    </tr>\n",
       "    <tr>\n",
       "      <th>1</th>\n",
       "      <td>2016-07-01 18:48:44</td>\n",
       "      <td>GB</td>\n",
       "      <td>204.0.20</td>\n",
       "      <td>tracks</td>\n",
       "      <td>content-based</td>\n",
       "      <td>1f5e4bc82ba7fc802f780870f9b69191</td>\n",
       "      <td>HipHop &amp; R&amp;B</td>\n",
       "      <td>2016-06-24</td>\n",
       "      <td>402.640</td>\n",
       "      <td>110.722</td>\n",
       "      <td>0001d5755511cae40e5b32d83a3decce</td>\n",
       "      <td>2011-12-25</td>\n",
       "      <td>HipHop &amp; R&amp;B</td>\n",
       "      <td>617270.94</td>\n",
       "      <td>22.5</td>\n",
       "      <td>1655 days 15:57:16</td>\n",
       "    </tr>\n",
       "    <tr>\n",
       "      <th>2</th>\n",
       "      <td>2016-07-06 15:57:16</td>\n",
       "      <td>GB</td>\n",
       "      <td>204.0.20</td>\n",
       "      <td>users</td>\n",
       "      <td>content-based</td>\n",
       "      <td>092495283958e5d00f61cf2afe970d83</td>\n",
       "      <td>Pop</td>\n",
       "      <td>2016-06-28</td>\n",
       "      <td>494.811</td>\n",
       "      <td>193.818</td>\n",
       "      <td>0001d5755511cae40e5b32d83a3decce</td>\n",
       "      <td>2011-12-25</td>\n",
       "      <td>HipHop &amp; R&amp;B</td>\n",
       "      <td>617270.94</td>\n",
       "      <td>22.5</td>\n",
       "      <td>1655 days 15:57:16</td>\n",
       "    </tr>\n",
       "    <tr>\n",
       "      <th>3</th>\n",
       "      <td>2016-07-01 19:39:11</td>\n",
       "      <td>US</td>\n",
       "      <td>36.0.8</td>\n",
       "      <td>collection</td>\n",
       "      <td>content-based</td>\n",
       "      <td>211cd7be59941679f5ea847879b3b19b</td>\n",
       "      <td>HipHop &amp; R&amp;B</td>\n",
       "      <td>2014-06-09</td>\n",
       "      <td>361.585</td>\n",
       "      <td>361.585</td>\n",
       "      <td>000264c5b34ad04999535c8b6a8b86e2</td>\n",
       "      <td>2013-09-17</td>\n",
       "      <td>HipHop &amp; R&amp;B</td>\n",
       "      <td>112239.18</td>\n",
       "      <td>10.5</td>\n",
       "      <td>1038 days 21:45:56</td>\n",
       "    </tr>\n",
       "    <tr>\n",
       "      <th>4</th>\n",
       "      <td>2016-07-01 19:42:39</td>\n",
       "      <td>US</td>\n",
       "      <td>36.0.8</td>\n",
       "      <td>collection</td>\n",
       "      <td>content-based</td>\n",
       "      <td>0e7ca1a7524aba84473540fa0d0ec75f</td>\n",
       "      <td>Pop</td>\n",
       "      <td>2015-11-28</td>\n",
       "      <td>373.700</td>\n",
       "      <td>160.162</td>\n",
       "      <td>000264c5b34ad04999535c8b6a8b86e2</td>\n",
       "      <td>2013-09-17</td>\n",
       "      <td>HipHop &amp; R&amp;B</td>\n",
       "      <td>112239.18</td>\n",
       "      <td>10.5</td>\n",
       "      <td>1038 days 21:45:56</td>\n",
       "    </tr>\n",
       "  </tbody>\n",
       "</table>\n",
       "</div>"
      ],
      "text/plain": [
       "                   ts country_code client_version listening_context  \\\n",
       "0 2016-07-01 18:44:43           GB       204.0.20            tracks   \n",
       "1 2016-07-01 18:48:44           GB       204.0.20            tracks   \n",
       "2 2016-07-06 15:57:16           GB       204.0.20             users   \n",
       "3 2016-07-01 19:39:11           US         36.0.8        collection   \n",
       "4 2016-07-01 19:42:39           US         36.0.8        collection   \n",
       "\n",
       "  recommender_algorithm_name                          track_id  \\\n",
       "0              content-based  b47911d0e80d1a8a959a2b726654bbfa   \n",
       "1              content-based  1f5e4bc82ba7fc802f780870f9b69191   \n",
       "2              content-based  092495283958e5d00f61cf2afe970d83   \n",
       "3              content-based  211cd7be59941679f5ea847879b3b19b   \n",
       "4              content-based  0e7ca1a7524aba84473540fa0d0ec75f   \n",
       "\n",
       "  track_genre_category track_upload_date  track_duration  listen_duration  \\\n",
       "0   Dance & Electronic        2016-06-23         413.933          413.933   \n",
       "1         HipHop & R&B        2016-06-24         402.640          110.722   \n",
       "2                  Pop        2016-06-28         494.811          193.818   \n",
       "3         HipHop & R&B        2014-06-09         361.585          361.585   \n",
       "4                  Pop        2015-11-28         373.700          160.162   \n",
       "\n",
       "                        listener_id listener_signup_date  \\\n",
       "0  0001d5755511cae40e5b32d83a3decce           2011-12-25   \n",
       "1  0001d5755511cae40e5b32d83a3decce           2011-12-25   \n",
       "2  0001d5755511cae40e5b32d83a3decce           2011-12-25   \n",
       "3  000264c5b34ad04999535c8b6a8b86e2           2013-09-17   \n",
       "4  000264c5b34ad04999535c8b6a8b86e2           2013-09-17   \n",
       "\n",
       "  listener_top_genre_category_listened  listener_prev_month_listening_time  \\\n",
       "0                         HipHop & R&B                           617270.94   \n",
       "1                         HipHop & R&B                           617270.94   \n",
       "2                         HipHop & R&B                           617270.94   \n",
       "3                         HipHop & R&B                           112239.18   \n",
       "4                         HipHop & R&B                           112239.18   \n",
       "\n",
       "  listener_prev_month_avg_daily_tracks_listened       listener_age  \n",
       "0                                          22.5 1655 days 15:57:16  \n",
       "1                                          22.5 1655 days 15:57:16  \n",
       "2                                          22.5 1655 days 15:57:16  \n",
       "3                                          10.5 1038 days 21:45:56  \n",
       "4                                          10.5 1038 days 21:45:56  "
      ]
     },
     "execution_count": 266,
     "metadata": {},
     "output_type": "execute_result"
    }
   ],
   "source": [
    "result_w_age.head()"
   ]
  },
  {
   "cell_type": "code",
   "execution_count": 265,
   "metadata": {},
   "outputs": [],
   "source": [
    "#renaming the added column\n",
    "result_w_age.rename(columns={ result_w_age.columns[-1]: \"listener_age\"}, inplace = True)"
   ]
  },
  {
   "cell_type": "code",
   "execution_count": 272,
   "metadata": {},
   "outputs": [],
   "source": [
    "# df_l_tr = result_w_age.groupby(['listener_id','track_id'])"
   ]
  },
  {
   "cell_type": "code",
   "execution_count": null,
   "metadata": {},
   "outputs": [],
   "source": [
    "# df_l_tr['Skipped'] = np.where(df_l_tr['listen_duration'] - df_l_tr['track_duration'] < 0, 'Yes', 'No')\n",
    "\n",
    "#  df.groupby('A').apply(lambda x: (x['C'] - x['D']))\n",
    "# age = result_w_age.groupby(['listener_id','track_id']).apply(lambda x: (x['listen_duration']-x['track_duration']))   "
   ]
  },
  {
   "cell_type": "code",
   "execution_count": 283,
   "metadata": {},
   "outputs": [],
   "source": [
    "# difference between tracks' lengths and how much was listened\n",
    "result_w_diff = result_w_age.merge(result_w_age.groupby(['listener_id','track_id']).apply(lambda x: (x['listen_duration']-x['track_duration'])).to_frame(), on=['listener_id','track_id'])"
   ]
  },
  {
   "cell_type": "code",
   "execution_count": null,
   "metadata": {},
   "outputs": [],
   "source": [
    "#renaming the added column\n",
    "result_w_diff.rename(columns={ result_w_diff.columns[-1]: \"for_skipped\"}, inplace = True)"
   ]
  },
  {
   "cell_type": "code",
   "execution_count": 303,
   "metadata": {},
   "outputs": [
    {
     "data": {
      "text/html": [
       "<div>\n",
       "<style scoped>\n",
       "    .dataframe tbody tr th:only-of-type {\n",
       "        vertical-align: middle;\n",
       "    }\n",
       "\n",
       "    .dataframe tbody tr th {\n",
       "        vertical-align: top;\n",
       "    }\n",
       "\n",
       "    .dataframe thead th {\n",
       "        text-align: right;\n",
       "    }\n",
       "</style>\n",
       "<table border=\"1\" class=\"dataframe\">\n",
       "  <thead>\n",
       "    <tr style=\"text-align: right;\">\n",
       "      <th></th>\n",
       "      <th>ts</th>\n",
       "      <th>country_code</th>\n",
       "      <th>client_version</th>\n",
       "      <th>listening_context</th>\n",
       "      <th>recommender_algorithm_name</th>\n",
       "      <th>track_id</th>\n",
       "      <th>track_genre_category</th>\n",
       "      <th>track_upload_date</th>\n",
       "      <th>track_duration</th>\n",
       "      <th>listen_duration</th>\n",
       "      <th>listener_id</th>\n",
       "      <th>listener_signup_date</th>\n",
       "      <th>listener_top_genre_category_listened</th>\n",
       "      <th>listener_prev_month_listening_time</th>\n",
       "      <th>listener_prev_month_avg_daily_tracks_listened</th>\n",
       "      <th>listener_age</th>\n",
       "      <th>for_skipped</th>\n",
       "      <th>skipped</th>\n",
       "    </tr>\n",
       "  </thead>\n",
       "  <tbody>\n",
       "    <tr>\n",
       "      <th>0</th>\n",
       "      <td>2016-07-01 18:44:43</td>\n",
       "      <td>GB</td>\n",
       "      <td>204.0.20</td>\n",
       "      <td>tracks</td>\n",
       "      <td>content-based</td>\n",
       "      <td>b47911d0e80d1a8a959a2b726654bbfa</td>\n",
       "      <td>Dance &amp; Electronic</td>\n",
       "      <td>2016-06-23</td>\n",
       "      <td>413.933</td>\n",
       "      <td>413.933</td>\n",
       "      <td>0001d5755511cae40e5b32d83a3decce</td>\n",
       "      <td>2011-12-25</td>\n",
       "      <td>HipHop &amp; R&amp;B</td>\n",
       "      <td>617270.94</td>\n",
       "      <td>22.5</td>\n",
       "      <td>1655 days 15:57:16</td>\n",
       "      <td>0.000</td>\n",
       "      <td>No</td>\n",
       "    </tr>\n",
       "    <tr>\n",
       "      <th>1</th>\n",
       "      <td>2016-07-01 18:48:44</td>\n",
       "      <td>GB</td>\n",
       "      <td>204.0.20</td>\n",
       "      <td>tracks</td>\n",
       "      <td>content-based</td>\n",
       "      <td>1f5e4bc82ba7fc802f780870f9b69191</td>\n",
       "      <td>HipHop &amp; R&amp;B</td>\n",
       "      <td>2016-06-24</td>\n",
       "      <td>402.640</td>\n",
       "      <td>110.722</td>\n",
       "      <td>0001d5755511cae40e5b32d83a3decce</td>\n",
       "      <td>2011-12-25</td>\n",
       "      <td>HipHop &amp; R&amp;B</td>\n",
       "      <td>617270.94</td>\n",
       "      <td>22.5</td>\n",
       "      <td>1655 days 15:57:16</td>\n",
       "      <td>-291.918</td>\n",
       "      <td>Yes</td>\n",
       "    </tr>\n",
       "    <tr>\n",
       "      <th>2</th>\n",
       "      <td>2016-07-06 15:57:16</td>\n",
       "      <td>GB</td>\n",
       "      <td>204.0.20</td>\n",
       "      <td>users</td>\n",
       "      <td>content-based</td>\n",
       "      <td>092495283958e5d00f61cf2afe970d83</td>\n",
       "      <td>Pop</td>\n",
       "      <td>2016-06-28</td>\n",
       "      <td>494.811</td>\n",
       "      <td>193.818</td>\n",
       "      <td>0001d5755511cae40e5b32d83a3decce</td>\n",
       "      <td>2011-12-25</td>\n",
       "      <td>HipHop &amp; R&amp;B</td>\n",
       "      <td>617270.94</td>\n",
       "      <td>22.5</td>\n",
       "      <td>1655 days 15:57:16</td>\n",
       "      <td>-300.993</td>\n",
       "      <td>Yes</td>\n",
       "    </tr>\n",
       "    <tr>\n",
       "      <th>3</th>\n",
       "      <td>2016-07-01 19:39:11</td>\n",
       "      <td>US</td>\n",
       "      <td>36.0.8</td>\n",
       "      <td>collection</td>\n",
       "      <td>content-based</td>\n",
       "      <td>211cd7be59941679f5ea847879b3b19b</td>\n",
       "      <td>HipHop &amp; R&amp;B</td>\n",
       "      <td>2014-06-09</td>\n",
       "      <td>361.585</td>\n",
       "      <td>361.585</td>\n",
       "      <td>000264c5b34ad04999535c8b6a8b86e2</td>\n",
       "      <td>2013-09-17</td>\n",
       "      <td>HipHop &amp; R&amp;B</td>\n",
       "      <td>112239.18</td>\n",
       "      <td>10.5</td>\n",
       "      <td>1038 days 21:45:56</td>\n",
       "      <td>0.000</td>\n",
       "      <td>No</td>\n",
       "    </tr>\n",
       "    <tr>\n",
       "      <th>4</th>\n",
       "      <td>2016-07-01 19:42:39</td>\n",
       "      <td>US</td>\n",
       "      <td>36.0.8</td>\n",
       "      <td>collection</td>\n",
       "      <td>content-based</td>\n",
       "      <td>0e7ca1a7524aba84473540fa0d0ec75f</td>\n",
       "      <td>Pop</td>\n",
       "      <td>2015-11-28</td>\n",
       "      <td>373.700</td>\n",
       "      <td>160.162</td>\n",
       "      <td>000264c5b34ad04999535c8b6a8b86e2</td>\n",
       "      <td>2013-09-17</td>\n",
       "      <td>HipHop &amp; R&amp;B</td>\n",
       "      <td>112239.18</td>\n",
       "      <td>10.5</td>\n",
       "      <td>1038 days 21:45:56</td>\n",
       "      <td>-213.538</td>\n",
       "      <td>Yes</td>\n",
       "    </tr>\n",
       "  </tbody>\n",
       "</table>\n",
       "</div>"
      ],
      "text/plain": [
       "                   ts country_code client_version listening_context  \\\n",
       "0 2016-07-01 18:44:43           GB       204.0.20            tracks   \n",
       "1 2016-07-01 18:48:44           GB       204.0.20            tracks   \n",
       "2 2016-07-06 15:57:16           GB       204.0.20             users   \n",
       "3 2016-07-01 19:39:11           US         36.0.8        collection   \n",
       "4 2016-07-01 19:42:39           US         36.0.8        collection   \n",
       "\n",
       "  recommender_algorithm_name                          track_id  \\\n",
       "0              content-based  b47911d0e80d1a8a959a2b726654bbfa   \n",
       "1              content-based  1f5e4bc82ba7fc802f780870f9b69191   \n",
       "2              content-based  092495283958e5d00f61cf2afe970d83   \n",
       "3              content-based  211cd7be59941679f5ea847879b3b19b   \n",
       "4              content-based  0e7ca1a7524aba84473540fa0d0ec75f   \n",
       "\n",
       "  track_genre_category track_upload_date  track_duration  listen_duration  \\\n",
       "0   Dance & Electronic        2016-06-23         413.933          413.933   \n",
       "1         HipHop & R&B        2016-06-24         402.640          110.722   \n",
       "2                  Pop        2016-06-28         494.811          193.818   \n",
       "3         HipHop & R&B        2014-06-09         361.585          361.585   \n",
       "4                  Pop        2015-11-28         373.700          160.162   \n",
       "\n",
       "                        listener_id listener_signup_date  \\\n",
       "0  0001d5755511cae40e5b32d83a3decce           2011-12-25   \n",
       "1  0001d5755511cae40e5b32d83a3decce           2011-12-25   \n",
       "2  0001d5755511cae40e5b32d83a3decce           2011-12-25   \n",
       "3  000264c5b34ad04999535c8b6a8b86e2           2013-09-17   \n",
       "4  000264c5b34ad04999535c8b6a8b86e2           2013-09-17   \n",
       "\n",
       "  listener_top_genre_category_listened  listener_prev_month_listening_time  \\\n",
       "0                         HipHop & R&B                           617270.94   \n",
       "1                         HipHop & R&B                           617270.94   \n",
       "2                         HipHop & R&B                           617270.94   \n",
       "3                         HipHop & R&B                           112239.18   \n",
       "4                         HipHop & R&B                           112239.18   \n",
       "\n",
       "  listener_prev_month_avg_daily_tracks_listened       listener_age  \\\n",
       "0                                          22.5 1655 days 15:57:16   \n",
       "1                                          22.5 1655 days 15:57:16   \n",
       "2                                          22.5 1655 days 15:57:16   \n",
       "3                                          10.5 1038 days 21:45:56   \n",
       "4                                          10.5 1038 days 21:45:56   \n",
       "\n",
       "   for_skipped skipped  \n",
       "0        0.000      No  \n",
       "1     -291.918     Yes  \n",
       "2     -300.993     Yes  \n",
       "3        0.000      No  \n",
       "4     -213.538     Yes  "
      ]
     },
     "execution_count": 303,
     "metadata": {},
     "output_type": "execute_result"
    }
   ],
   "source": [
    "result_w_diff.head()"
   ]
  },
  {
   "cell_type": "code",
   "execution_count": 302,
   "metadata": {},
   "outputs": [],
   "source": [
    "# Creating a skipped column\n",
    "result_w_diff['skipped'] = np.where(result_w_diff['for_skipped']< 0, 'Yes', 'No')"
   ]
  },
  {
   "cell_type": "code",
   "execution_count": null,
   "metadata": {},
   "outputs": [],
   "source": []
  },
  {
   "cell_type": "code",
   "execution_count": null,
   "metadata": {},
   "outputs": [],
   "source": []
  },
  {
   "cell_type": "code",
   "execution_count": null,
   "metadata": {},
   "outputs": [],
   "source": []
  },
  {
   "cell_type": "code",
   "execution_count": null,
   "metadata": {},
   "outputs": [],
   "source": []
  },
  {
   "cell_type": "code",
   "execution_count": null,
   "metadata": {},
   "outputs": [],
   "source": []
  },
  {
   "cell_type": "code",
   "execution_count": null,
   "metadata": {},
   "outputs": [],
   "source": []
  },
  {
   "cell_type": "code",
   "execution_count": null,
   "metadata": {},
   "outputs": [],
   "source": []
  },
  {
   "cell_type": "code",
   "execution_count": null,
   "metadata": {},
   "outputs": [],
   "source": []
  },
  {
   "cell_type": "code",
   "execution_count": null,
   "metadata": {},
   "outputs": [],
   "source": []
  },
  {
   "cell_type": "code",
   "execution_count": null,
   "metadata": {},
   "outputs": [],
   "source": []
  },
  {
   "cell_type": "code",
   "execution_count": null,
   "metadata": {},
   "outputs": [],
   "source": []
  },
  {
   "cell_type": "code",
   "execution_count": null,
   "metadata": {},
   "outputs": [],
   "source": []
  },
  {
   "cell_type": "code",
   "execution_count": null,
   "metadata": {},
   "outputs": [],
   "source": []
  },
  {
   "cell_type": "code",
   "execution_count": null,
   "metadata": {},
   "outputs": [],
   "source": []
  },
  {
   "cell_type": "code",
   "execution_count": null,
   "metadata": {},
   "outputs": [],
   "source": [
    "import xgboost as xgb\n",
    "from sklearn.metrics import mean_squared_error\n",
    "import graphviz"
   ]
  },
  {
   "cell_type": "code",
   "execution_count": null,
   "metadata": {},
   "outputs": [],
   "source": [
    "data_dmatrix = xgb.DMatrix(data=X_train_std,label=y_train)"
   ]
  },
  {
   "cell_type": "code",
   "execution_count": null,
   "metadata": {},
   "outputs": [],
   "source": [
    "xg_reg = xgb.XGBRegressor(objective ='binary:logistic', colsample_bytree = 0.3, learning_rate = 0.05,\n",
    "                max_depth = 8, alpha = 10, n_estimators = 20)"
   ]
  },
  {
   "cell_type": "code",
   "execution_count": null,
   "metadata": {},
   "outputs": [],
   "source": [
    "eval_set = [(X_test_std, y_test)]\n",
    "xg_reg.fit(X_train_std, y_train, eval_metric=\"error\", eval_set = eval_set, verbose = True)\n",
    "prediction_y_5 = xg_reg.predict(X_test_std)"
   ]
  },
  {
   "cell_type": "code",
   "execution_count": null,
   "metadata": {},
   "outputs": [],
   "source": [
    "rmse = np.sqrt(mean_squared_error(y_test, prediction_y_5))\n",
    "print(\"RMSE: %f\" % (rmse))"
   ]
  },
  {
   "cell_type": "code",
   "execution_count": null,
   "metadata": {},
   "outputs": [],
   "source": [
    "# we can do feature importance using XGBoost, as well \n",
    "list(zip(features.columns, xg_reg.feature_importances_))"
   ]
  },
  {
   "cell_type": "code",
   "execution_count": null,
   "metadata": {},
   "outputs": [],
   "source": [
    "# cleaning columns from brackets, quotes, etc.\n",
    "# df['result'] = df['result'].str.replace(r'\\D', '')\n",
    "# df_values['ts'] = df_values['ts'].str.replace(r'[','')\n",
    "# df_values['ts'] = df_values['ts'].str[1:] # removing the first bracket\n",
    "# df_values.iloc[:,-1] = df_values.iloc[:,-1].map(lambda x: str(x)[:-1])  # don't want to type the name of the last column. Removing the bracket\n",
    "# df_values['country_code'].apply(lambda s: s.str.replace('\\'', ''))\n",
    "# df_values['client_version'].apply(lambda s: s.str.replace('\\'', ''))\n",
    "# df_values['listening_context'].apply(lambda s: s.str.replace('\\'', ''))\n",
    "# df_values['listening_context'].apply(lambda s: s.str.replace('\\'', ''))\n",
    "# df_values['listening_context'].apply(lambda s: s.str.replace('\\'', ''))"
   ]
  },
  {
   "cell_type": "code",
   "execution_count": null,
   "metadata": {},
   "outputs": [],
   "source": [
    "# test['country_code'].apply(lambda s: s.str.replace('\\'', ''))\n",
    "# test['country_code'].astype(str).str.replace('\\'', '')"
   ]
  },
  {
   "cell_type": "code",
   "execution_count": null,
   "metadata": {},
   "outputs": [],
   "source": [
    "# removing brackets:\n",
    "# test['ts'] = test['ts'].str[1:]\n",
    "# test.iloc[:,-1] = test.iloc[:,-1].map(lambda x: str(x)[:-1])  # don't want to type the name of the last column. Removing the bracket\n",
    "\n",
    "\n",
    "# # removing quotes\n",
    "# for a in test.iloc[:,1:7].columns.tolist():\n",
    "#     test[a] = test[a].astype(str).str.replace('\\'', '')\n",
    "\n",
    "# for b in test[['listener_id','listener_top_genre_category_listened']].columns.tolist():\n",
    "#     test[b] = test[b].astype(str).str.replace('\\'', '')    \n"
   ]
  },
  {
   "cell_type": "code",
   "execution_count": null,
   "metadata": {},
   "outputs": [],
   "source": [
    "# unix timestamp to date\n",
    "# test['ts'] = pd.to_datetime(test['ts'], unit='s')\n",
    "# test['track_upload_date'] = pd.to_datetime(test['track_upload_date'], unit='s')\n",
    "# test['listener_signup_date'] = pd.to_datetime(test['listener_signup_date'], unit='s')\n"
   ]
  },
  {
   "cell_type": "code",
   "execution_count": null,
   "metadata": {},
   "outputs": [],
   "source": [
    "# converting milliseconds to seconds for now\n",
    "# test['track_duration'] = test['track_duration'].astype(float)/1000\n",
    "# test['listen_duration'] = test['listen_duration'].astype(float)/1000\n",
    "# test['listener_prev_month_listening_time'] = test['listener_prev_month_listening_time'].astype(float)/1000"
   ]
  },
  {
   "cell_type": "code",
   "execution_count": null,
   "metadata": {},
   "outputs": [],
   "source": [
    "# test['listener_prev_month_listening_time'].astype(str).applymap(lambda x: isinstance(x, (int, float)))\n",
    "# test['listener_prev_month_listening_time'] = test['listener_prev_month_listening_time'].astype(str)"
   ]
  },
  {
   "cell_type": "code",
   "execution_count": null,
   "metadata": {},
   "outputs": [],
   "source": [
    "# test['listener_prev_month_listening_time'].astype(str).apply(lambda x: isinstance(x, (str)))"
   ]
  },
  {
   "cell_type": "code",
   "execution_count": null,
   "metadata": {},
   "outputs": [],
   "source": [
    "# test['listener_prev_month_listening_time']"
   ]
  },
  {
   "cell_type": "code",
   "execution_count": null,
   "metadata": {},
   "outputs": [],
   "source": [
    "# test.head()"
   ]
  },
  {
   "cell_type": "code",
   "execution_count": null,
   "metadata": {},
   "outputs": [],
   "source": [
    "# patterns= [r'\\D+'] # non integers\n",
    "# # for p in patterns:\n",
    "# #     match=  re.findall(p, test['listener_prev_month_listening_time'])\n",
    "# #     print(match)\n",
    "\n",
    "# # test['listener_prev_month_listening_time'].str.contains(patterns, regex=True)\n",
    "# # test['listener_prev_month_listening_time'] = df_values['listener_prev_month_listening_time']\n",
    "# test['listener_prev_month_listening_time'] = pd.to_numeric(test['listener_prev_month_listening_time'], errors='ignore')\n",
    "# test['listener_prev_month_listening_time'].fillna(0, inplace = True)\n",
    "# # test['listener_prev_month_listening_time'].apply(lambda x: any(pd.Series(x).str.contains(patterns)))"
   ]
  },
  {
   "cell_type": "code",
   "execution_count": null,
   "metadata": {},
   "outputs": [],
   "source": [
    "# test[test.isnull().any(axis=1)]"
   ]
  },
  {
   "cell_type": "code",
   "execution_count": null,
   "metadata": {},
   "outputs": [],
   "source": []
  }
 ],
 "metadata": {
  "kernelspec": {
   "display_name": "Python 3",
   "language": "python",
   "name": "python3"
  },
  "language_info": {
   "codemirror_mode": {
    "name": "ipython",
    "version": 3
   },
   "file_extension": ".py",
   "mimetype": "text/x-python",
   "name": "python",
   "nbconvert_exporter": "python",
   "pygments_lexer": "ipython3",
   "version": "3.7.1"
  }
 },
 "nbformat": 4,
 "nbformat_minor": 2
}
